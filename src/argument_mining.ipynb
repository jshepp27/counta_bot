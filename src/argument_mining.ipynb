{
 "cells": [
  {
   "cell_type": "code",
   "execution_count": 30,
   "metadata": {
    "collapsed": true
   },
   "outputs": [],
   "source": [
    "import pandas as pd\n",
    "import json\n",
    "\n",
    "import config\n",
    "\n",
    "#\n",
    "# with open(\"../creds.json\", \"r\") as f:\n",
    "#     config = json.load(f)\n",
    "#\n",
    "# API_KEY = config[\"argumentext_api_key\"]\n",
    "# API_USER = config[\"argumentext_user\"]"
   ]
  },
  {
   "cell_type": "code",
   "execution_count": null,
   "outputs": [],
   "source": [
    "# opinion target extraction\n",
    "# entity extraction, aspect extraction"
   ],
   "metadata": {
    "collapsed": false,
    "pycharm": {
     "name": "#%%\n"
    }
   }
  },
  {
   "cell_type": "code",
   "execution_count": 42,
   "outputs": [
    {
     "data": {
      "text/plain": "          id                                             titles  \\\n0  t3_2ro9ux               Anything that is manmade is natural.   \n1  t3_2ro0ti                        Essential Oils are bullshit   \n2  t3_2rnr30  I think the Paris shooting makes a good case f...   \n3  t3_2rnfn0  Explaining causation is not blaming the victim...   \n4  t3_2rnfn0  Explaining causation is not blaming the victim...   \n5  t3_2rmy6e  Philosophy has no tangible value as an academi...   \n6  t3_2rmy6e  Philosophy has no tangible value as an academi...   \n7  t3_2rmwcd           Freedom of speech is being taken too far   \n8  t3_2rkzen  Eugenics isnt all that bad... And we dont even...   \n9  t3_2rkzen  Eugenics isnt all that bad... And we dont even...   \n\n                                           arguments  \\\n0  I cant remember the topic that spurred this di...   \n1  y wife has recently gotten deeply involvedobse...   \n2  Thinking about todays news BB Wikipedia I thin...   \n3  Ive been thinking about this issue for a while...   \n4  Ive been thinking about this issue for a while...   \n5  As an independent form of study philosophy doe...   \n6  As an independent form of study philosophy doe...   \n7  In the last few weeks weve had two huge events...   \n8  Okay Im talking about making the human race sm...   \n9  Okay Im talking about making the human race sm...   \n\n                                            counters  \n0  Look at the definition you provided if we remo...  \n1  This answer in raskscience does a pretty good ...  \n2  I guess I look at it this way there have absol...  \n3  I would say that the difficulty here is in ass...  \n4  I think youre correct for the most part but st...  \n5  Two answers. rigor and it saves us from reinve...  \n6  Let me take a crack at this as someone with a ...  \n7  Think of something you do every day that you c...  \n8  Every time a proposal like this comes up I am ...  \n9  Firstly IQ is not considered to be a good or a...  ",
      "text/html": "<div>\n<style scoped>\n    .dataframe tbody tr th:only-of-type {\n        vertical-align: middle;\n    }\n\n    .dataframe tbody tr th {\n        vertical-align: top;\n    }\n\n    .dataframe thead th {\n        text-align: right;\n    }\n</style>\n<table border=\"1\" class=\"dataframe\">\n  <thead>\n    <tr style=\"text-align: right;\">\n      <th></th>\n      <th>id</th>\n      <th>titles</th>\n      <th>arguments</th>\n      <th>counters</th>\n    </tr>\n  </thead>\n  <tbody>\n    <tr>\n      <th>0</th>\n      <td>t3_2ro9ux</td>\n      <td>Anything that is manmade is natural.</td>\n      <td>I cant remember the topic that spurred this di...</td>\n      <td>Look at the definition you provided if we remo...</td>\n    </tr>\n    <tr>\n      <th>1</th>\n      <td>t3_2ro0ti</td>\n      <td>Essential Oils are bullshit</td>\n      <td>y wife has recently gotten deeply involvedobse...</td>\n      <td>This answer in raskscience does a pretty good ...</td>\n    </tr>\n    <tr>\n      <th>2</th>\n      <td>t3_2rnr30</td>\n      <td>I think the Paris shooting makes a good case f...</td>\n      <td>Thinking about todays news BB Wikipedia I thin...</td>\n      <td>I guess I look at it this way there have absol...</td>\n    </tr>\n    <tr>\n      <th>3</th>\n      <td>t3_2rnfn0</td>\n      <td>Explaining causation is not blaming the victim...</td>\n      <td>Ive been thinking about this issue for a while...</td>\n      <td>I would say that the difficulty here is in ass...</td>\n    </tr>\n    <tr>\n      <th>4</th>\n      <td>t3_2rnfn0</td>\n      <td>Explaining causation is not blaming the victim...</td>\n      <td>Ive been thinking about this issue for a while...</td>\n      <td>I think youre correct for the most part but st...</td>\n    </tr>\n    <tr>\n      <th>5</th>\n      <td>t3_2rmy6e</td>\n      <td>Philosophy has no tangible value as an academi...</td>\n      <td>As an independent form of study philosophy doe...</td>\n      <td>Two answers. rigor and it saves us from reinve...</td>\n    </tr>\n    <tr>\n      <th>6</th>\n      <td>t3_2rmy6e</td>\n      <td>Philosophy has no tangible value as an academi...</td>\n      <td>As an independent form of study philosophy doe...</td>\n      <td>Let me take a crack at this as someone with a ...</td>\n    </tr>\n    <tr>\n      <th>7</th>\n      <td>t3_2rmwcd</td>\n      <td>Freedom of speech is being taken too far</td>\n      <td>In the last few weeks weve had two huge events...</td>\n      <td>Think of something you do every day that you c...</td>\n    </tr>\n    <tr>\n      <th>8</th>\n      <td>t3_2rkzen</td>\n      <td>Eugenics isnt all that bad... And we dont even...</td>\n      <td>Okay Im talking about making the human race sm...</td>\n      <td>Every time a proposal like this comes up I am ...</td>\n    </tr>\n    <tr>\n      <th>9</th>\n      <td>t3_2rkzen</td>\n      <td>Eugenics isnt all that bad... And we dont even...</td>\n      <td>Okay Im talking about making the human race sm...</td>\n      <td>Firstly IQ is not considered to be a good or a...</td>\n    </tr>\n  </tbody>\n</table>\n</div>"
     },
     "execution_count": 42,
     "metadata": {},
     "output_type": "execute_result"
    }
   ],
   "source": [
    "data = []\n",
    "\n",
    "with open(\"../data/debate.jsonl\", \"r\") as f:\n",
    "    for line in f:\n",
    "        data.append(json.loads(line))\n",
    "\n",
    "sample = data[0:10]\n",
    "_sample = pd.DataFrame(sample)\n",
    "_sample"
   ],
   "metadata": {
    "collapsed": false,
    "pycharm": {
     "name": "#%%\n"
    }
   }
  },
  {
   "cell_type": "code",
   "execution_count": null,
   "outputs": [],
   "source": [
    "# <target, stance>"
   ],
   "metadata": {
    "collapsed": false,
    "pycharm": {
     "name": "#%%\n"
    }
   }
  },
  {
   "cell_type": "code",
   "execution_count": 21,
   "outputs": [],
   "source": [
    "# <target, aspect, opinion>"
   ],
   "metadata": {
    "collapsed": false,
    "pycharm": {
     "name": "#%%\n"
    }
   }
  },
  {
   "cell_type": "code",
   "execution_count": 43,
   "outputs": [
    {
     "data": {
      "text/plain": "          id                                             titles  \\\n0  t3_2ro9ux               Anything that is manmade is natural.   \n1  t3_2ro0ti                        Essential Oils are bullshit   \n2  t3_2rnr30  I think the Paris shooting makes a good case f...   \n3  t3_2rnfn0  Explaining causation is not blaming the victim...   \n4  t3_2rnfn0  Explaining causation is not blaming the victim...   \n5  t3_2rmy6e  Philosophy has no tangible value as an academi...   \n6  t3_2rmy6e  Philosophy has no tangible value as an academi...   \n7  t3_2rmwcd           Freedom of speech is being taken too far   \n8  t3_2rkzen  Eugenics isnt all that bad... And we dont even...   \n9  t3_2rkzen  Eugenics isnt all that bad... And we dont even...   \n\n                                           arguments  \\\n0  I cant remember the topic that spurred this di...   \n1  y wife has recently gotten deeply involvedobse...   \n2  Thinking about todays news BB Wikipedia I thin...   \n3  Ive been thinking about this issue for a while...   \n4  Ive been thinking about this issue for a while...   \n5  As an independent form of study philosophy doe...   \n6  As an independent form of study philosophy doe...   \n7  In the last few weeks weve had two huge events...   \n8  Okay Im talking about making the human race sm...   \n9  Okay Im talking about making the human race sm...   \n\n                                            counters  \n0  Look at the definition you provided if we remo...  \n1  This answer in raskscience does a pretty good ...  \n2  I guess I look at it this way there have absol...  \n3  I would say that the difficulty here is in ass...  \n4  I think youre correct for the most part but st...  \n5  Two answers. rigor and it saves us from reinve...  \n6  Let me take a crack at this as someone with a ...  \n7  Think of something you do every day that you c...  \n8  Every time a proposal like this comes up I am ...  \n9  Firstly IQ is not considered to be a good or a...  ",
      "text/html": "<div>\n<style scoped>\n    .dataframe tbody tr th:only-of-type {\n        vertical-align: middle;\n    }\n\n    .dataframe tbody tr th {\n        vertical-align: top;\n    }\n\n    .dataframe thead th {\n        text-align: right;\n    }\n</style>\n<table border=\"1\" class=\"dataframe\">\n  <thead>\n    <tr style=\"text-align: right;\">\n      <th></th>\n      <th>id</th>\n      <th>titles</th>\n      <th>arguments</th>\n      <th>counters</th>\n    </tr>\n  </thead>\n  <tbody>\n    <tr>\n      <th>0</th>\n      <td>t3_2ro9ux</td>\n      <td>Anything that is manmade is natural.</td>\n      <td>I cant remember the topic that spurred this di...</td>\n      <td>Look at the definition you provided if we remo...</td>\n    </tr>\n    <tr>\n      <th>1</th>\n      <td>t3_2ro0ti</td>\n      <td>Essential Oils are bullshit</td>\n      <td>y wife has recently gotten deeply involvedobse...</td>\n      <td>This answer in raskscience does a pretty good ...</td>\n    </tr>\n    <tr>\n      <th>2</th>\n      <td>t3_2rnr30</td>\n      <td>I think the Paris shooting makes a good case f...</td>\n      <td>Thinking about todays news BB Wikipedia I thin...</td>\n      <td>I guess I look at it this way there have absol...</td>\n    </tr>\n    <tr>\n      <th>3</th>\n      <td>t3_2rnfn0</td>\n      <td>Explaining causation is not blaming the victim...</td>\n      <td>Ive been thinking about this issue for a while...</td>\n      <td>I would say that the difficulty here is in ass...</td>\n    </tr>\n    <tr>\n      <th>4</th>\n      <td>t3_2rnfn0</td>\n      <td>Explaining causation is not blaming the victim...</td>\n      <td>Ive been thinking about this issue for a while...</td>\n      <td>I think youre correct for the most part but st...</td>\n    </tr>\n    <tr>\n      <th>5</th>\n      <td>t3_2rmy6e</td>\n      <td>Philosophy has no tangible value as an academi...</td>\n      <td>As an independent form of study philosophy doe...</td>\n      <td>Two answers. rigor and it saves us from reinve...</td>\n    </tr>\n    <tr>\n      <th>6</th>\n      <td>t3_2rmy6e</td>\n      <td>Philosophy has no tangible value as an academi...</td>\n      <td>As an independent form of study philosophy doe...</td>\n      <td>Let me take a crack at this as someone with a ...</td>\n    </tr>\n    <tr>\n      <th>7</th>\n      <td>t3_2rmwcd</td>\n      <td>Freedom of speech is being taken too far</td>\n      <td>In the last few weeks weve had two huge events...</td>\n      <td>Think of something you do every day that you c...</td>\n    </tr>\n    <tr>\n      <th>8</th>\n      <td>t3_2rkzen</td>\n      <td>Eugenics isnt all that bad... And we dont even...</td>\n      <td>Okay Im talking about making the human race sm...</td>\n      <td>Every time a proposal like this comes up I am ...</td>\n    </tr>\n    <tr>\n      <th>9</th>\n      <td>t3_2rkzen</td>\n      <td>Eugenics isnt all that bad... And we dont even...</td>\n      <td>Okay Im talking about making the human race sm...</td>\n      <td>Firstly IQ is not considered to be a good or a...</td>\n    </tr>\n  </tbody>\n</table>\n</div>"
     },
     "execution_count": 43,
     "metadata": {},
     "output_type": "execute_result"
    }
   ],
   "source": [
    "_sample"
   ],
   "metadata": {
    "collapsed": false,
    "pycharm": {
     "name": "#%%\n"
    }
   }
  },
  {
   "cell_type": "code",
   "execution_count": 36,
   "outputs": [],
   "source": [
    "import spacy\n",
    "nlp = spacy.load(\"en_core_web_sm\")"
   ],
   "metadata": {
    "collapsed": false,
    "pycharm": {
     "name": "#%%\n"
    }
   }
  },
  {
   "cell_type": "code",
   "execution_count": 79,
   "outputs": [
    {
     "data": {
      "text/plain": "          id                                    titles  \\\n7  t3_2rmwcd  Freedom of speech is being taken too far   \n\n                                           arguments  \\\n7  In the last few weeks weve had two huge events...   \n\n                                            counters  \n7  Think of something you do every day that you c...  ",
      "text/html": "<div>\n<style scoped>\n    .dataframe tbody tr th:only-of-type {\n        vertical-align: middle;\n    }\n\n    .dataframe tbody tr th {\n        vertical-align: top;\n    }\n\n    .dataframe thead th {\n        text-align: right;\n    }\n</style>\n<table border=\"1\" class=\"dataframe\">\n  <thead>\n    <tr style=\"text-align: right;\">\n      <th></th>\n      <th>id</th>\n      <th>titles</th>\n      <th>arguments</th>\n      <th>counters</th>\n    </tr>\n  </thead>\n  <tbody>\n    <tr>\n      <th>7</th>\n      <td>t3_2rmwcd</td>\n      <td>Freedom of speech is being taken too far</td>\n      <td>In the last few weeks weve had two huge events...</td>\n      <td>Think of something you do every day that you c...</td>\n    </tr>\n  </tbody>\n</table>\n</div>"
     },
     "execution_count": 79,
     "metadata": {},
     "output_type": "execute_result"
    }
   ],
   "source": [
    "opinion = _sample[7:8]\n",
    "\n",
    "opinion"
   ],
   "metadata": {
    "collapsed": false,
    "pycharm": {
     "name": "#%%\n"
    }
   }
  },
  {
   "cell_type": "code",
   "execution_count": 85,
   "outputs": [
    {
     "data": {
      "text/plain": "'In the last few weeks weve had two huge events happen in the world both of which were caused by matters relating to freedom of speech. The first being the hacking of Sony over The Interview and today the shooting at the offices of a satirical magazine in Paris. I certainly value our free speech but to me there is a clear line between exercising your first amendment right President Obama sucks! etc and doing things that are known to be offensive to other cultures Satirical cartoons of prophets assassinating leaders etc. Perhaps this is a bad analogy but if you say something antagonizing to a bully and you get your ass kicked you should have anticipated that outcome.'"
     },
     "execution_count": 85,
     "metadata": {},
     "output_type": "execute_result"
    }
   ],
   "source": [
    "extract = opinion[\"arguments\"].iloc[0]\n",
    "extract"
   ],
   "metadata": {
    "collapsed": false,
    "pycharm": {
     "name": "#%%\n"
    }
   }
  },
  {
   "cell_type": "code",
   "execution_count": 86,
   "outputs": [
    {
     "data": {
      "text/plain": "['In the last few weeks weve had two huge events happen in the world both of which were caused by matters relating to freedom of speech.',\n 'The first being the hacking of Sony over The Interview and today the shooting at the offices of a satirical magazine in Paris.',\n 'I certainly value our free speech but to me there is a clear line between exercising your first amendment right President Obama sucks!',\n 'etc and doing things that are known to be offensive to other cultures Satirical cartoons of prophets assassinating leaders etc.',\n 'Perhaps this is a bad analogy but if you say something antagonizing to a bully and you get your ass kicked you should have anticipated that outcome.']"
     },
     "execution_count": 86,
     "metadata": {},
     "output_type": "execute_result"
    }
   ],
   "source": [
    "doc = nlp(extract)\n",
    "sentences = [sent.text for sent in doc.sents]\n",
    "\n",
    "sentences"
   ],
   "metadata": {
    "collapsed": false,
    "pycharm": {
     "name": "#%%\n"
    }
   }
  },
  {
   "cell_type": "code",
   "execution_count": 87,
   "outputs": [
    {
     "name": "stdout",
     "output_type": "stream",
     "text": [
      "In prep had VERB ADP [weeks]\n",
      "the det weeks NOUN DET []\n",
      "last amod weeks NOUN ADJ []\n",
      "few amod weeks NOUN ADJ []\n",
      "weeks pobj In ADP NOUN [the, last, few]\n",
      "we nsubj had VERB PRON []\n",
      "ve aux had VERB AUX []\n",
      "had ROOT had VERB VERB [In, we, ve, happen, .]\n",
      "two nummod events NOUN NUM []\n",
      "huge amod events NOUN ADJ []\n",
      "events nsubj happen VERB NOUN [two, huge]\n",
      "happen ccomp had VERB VERB [events, in]\n",
      "in prep happen VERB ADP [world]\n",
      "the det world NOUN DET []\n",
      "world pobj in ADP NOUN [the, caused]\n",
      "both nsubjpass caused VERB PRON [of]\n",
      "of prep both PRON ADP [which]\n",
      "which pobj of ADP PRON []\n",
      "were auxpass caused VERB AUX []\n",
      "caused relcl world NOUN VERB [both, were, by]\n",
      "by agent caused VERB ADP [matters]\n",
      "matters pobj by ADP NOUN [relating]\n",
      "relating acl matters NOUN VERB [to]\n",
      "to prep relating VERB ADP [freedom]\n",
      "freedom pobj to ADP NOUN [of]\n",
      "of prep freedom NOUN ADP [speech]\n",
      "speech pobj of ADP NOUN []\n",
      ". punct had VERB PUNCT []\n",
      "The det first ADJ DET []\n",
      "first ROOT first ADJ ADJ [The, being, and, today, shooting, .]\n",
      "being acl first ADJ AUX [hacking]\n",
      "the det hacking NOUN DET []\n",
      "hacking attr being AUX NOUN [the, of, over]\n",
      "of prep hacking NOUN ADP [Sony]\n",
      "Sony pobj of ADP PROPN []\n",
      "over prep hacking NOUN ADP [Interview]\n",
      "The det Interview PROPN DET []\n",
      "Interview pobj over ADP PROPN [The]\n",
      "and cc first ADJ CCONJ []\n",
      "today conj first ADJ NOUN []\n",
      "the det shooting NOUN DET []\n",
      "shooting conj first ADJ NOUN [the, at]\n",
      "at prep shooting NOUN ADP [offices]\n",
      "the det offices NOUN DET []\n",
      "offices pobj at ADP NOUN [the, of]\n",
      "of prep offices NOUN ADP [magazine]\n",
      "a det magazine NOUN DET []\n",
      "satirical amod magazine NOUN ADJ []\n",
      "magazine pobj of ADP NOUN [a, satirical, in]\n",
      "in prep magazine NOUN ADP [Paris]\n",
      "Paris pobj in ADP PROPN []\n",
      ". punct first ADJ PUNCT []\n",
      "I nsubj value VERB PRON []\n",
      "certainly advmod value VERB ADV []\n",
      "value ROOT value VERB VERB [I, certainly, speech, but, is]\n",
      "our poss speech NOUN PRON []\n",
      "free amod speech NOUN ADJ []\n",
      "speech dobj value VERB NOUN [our, free]\n",
      "but cc value VERB CCONJ []\n",
      "to prep is VERB ADP [me]\n",
      "me pobj to ADP PRON []\n",
      "there expl is VERB PRON []\n",
      "is conj value VERB VERB [to, there, line, sucks, !]\n",
      "a det line NOUN DET []\n",
      "clear amod line NOUN ADJ []\n",
      "line attr is VERB NOUN [a, clear, between]\n",
      "between prep line NOUN ADP [exercising]\n",
      "exercising pcomp between ADP VERB [amendment]\n",
      "your poss amendment NOUN PRON []\n",
      "first amod amendment NOUN ADJ []\n",
      "amendment dobj exercising VERB NOUN [your, first]\n",
      "right advmod sucks VERB ADJ []\n",
      "President compound Obama PROPN PROPN []\n",
      "Obama nsubj sucks VERB PROPN [President]\n",
      "sucks advcl is VERB VERB [right, Obama]\n",
      "! punct is VERB PUNCT []\n",
      "etc ROOT etc X X [and, doing, etc, .]\n",
      "and cc etc X CCONJ []\n",
      "doing conj etc X VERB [things]\n",
      "things dobj doing VERB NOUN [known]\n",
      "that nsubjpass known VERB PRON []\n",
      "are auxpass known VERB AUX []\n",
      "known relcl things NOUN VERB [that, are, be]\n",
      "to aux be AUX PART []\n",
      "be xcomp known VERB AUX [to, offensive, cartoons]\n",
      "offensive acomp be AUX ADJ [to]\n",
      "to prep offensive ADJ ADP [cultures]\n",
      "other amod cultures NOUN ADJ []\n",
      "cultures pobj to ADP NOUN [other]\n",
      "Satirical amod cartoons NOUN ADJ []\n",
      "cartoons attr be AUX NOUN [Satirical, of]\n",
      "of prep cartoons NOUN ADP [prophets]\n",
      "prophets pobj of ADP NOUN [assassinating]\n",
      "assassinating acl prophets NOUN VERB [leaders]\n",
      "leaders dobj assassinating VERB NOUN []\n",
      "etc conj etc X X []\n",
      ". punct etc X PUNCT []\n",
      "Perhaps advmod is AUX ADV []\n",
      "this nsubj is AUX PRON []\n",
      "is ROOT is AUX AUX [Perhaps, this, analogy, but, get]\n",
      "a det analogy NOUN DET []\n",
      "bad amod analogy NOUN ADJ []\n",
      "analogy attr is AUX NOUN [a, bad]\n",
      "but cc is AUX CCONJ []\n",
      "if mark say VERB SCONJ []\n",
      "you nsubj say VERB PRON []\n",
      "say advcl get VERB VERB [if, you, something]\n",
      "something dobj say VERB PRON [antagonizing]\n",
      "antagonizing acl something PRON VERB [to]\n",
      "to prep antagonizing VERB ADP [bully]\n",
      "a det bully NOUN DET []\n",
      "bully pobj to ADP NOUN [a]\n",
      "and cc get VERB CCONJ []\n",
      "you nsubj get VERB PRON []\n",
      "get conj is AUX VERB [say, and, you, kicked, .]\n",
      "your poss ass NOUN PRON []\n",
      "ass nsubj kicked VERB NOUN [your]\n",
      "kicked ccomp get VERB VERB [ass, anticipated]\n",
      "you nsubj anticipated VERB PRON []\n",
      "should aux anticipated VERB AUX []\n",
      "have aux anticipated VERB AUX []\n",
      "anticipated ccomp kicked VERB VERB [you, should, have, outcome]\n",
      "that det outcome NOUN DET []\n",
      "outcome dobj anticipated VERB NOUN [that]\n",
      ". punct get VERB PUNCT []\n"
     ]
    }
   ],
   "source": [
    "# Split sentences such that we group meronym and holonym pairs\n",
    "# We observe dependencies for each token\n",
    "# Pay attention to child dependencies, to pick up on intensifiers\n",
    "\n",
    "for sent in sentences:\n",
    "    doc = nlp(sent)\n",
    "    for token in doc:\n",
    "        print(token.text, token.dep_, token.head.text, token.head.pos_,\n",
    "              token.pos_, [child for child in token.children])"
   ],
   "metadata": {
    "collapsed": false,
    "pycharm": {
     "name": "#%%\n"
    }
   }
  },
  {
   "cell_type": "code",
   "execution_count": 90,
   "outputs": [
    {
     "name": "stdout",
     "output_type": "stream",
     "text": [
      "In the last few weeks weve had two huge events happen in the world both of which were caused by matters relating to freedom of speech.\n",
      "huge\n",
      "The first being the hacking of Sony over The Interview and today the shooting at the offices of a satirical magazine in Paris.\n",
      "satirical\n",
      "I certainly value our free speech but to me there is a clear line between exercising your first amendment right President Obama sucks!\n",
      "right\n",
      "etc and doing things that are known to be offensive to other cultures Satirical cartoons of prophets assassinating leaders etc.\n",
      "Satirical\n",
      "Perhaps this is a bad analogy but if you say something antagonizing to a bully and you get your ass kicked you should have anticipated that outcome.\n",
      "bad\n"
     ]
    }
   ],
   "source": [
    "# identify descriptive words\n",
    "# for sent in sentences:\n",
    "#     doc = nlp(sent)\n",
    "#     descriptive_term = \"\"\n",
    "#\n",
    "#     for token in doc:\n",
    "#         if token.pos_ == \"ADJ\":\n",
    "#             descriptive_term = token\n",
    "#\n",
    "#     print(sentences)\n",
    "#     print(descriptive_term)\n",
    "\n",
    "for sentence in sentences:\n",
    "  doc = nlp(sentence)\n",
    "  descriptive_term = ''\n",
    "  for token in doc:\n",
    "    if token.pos_ == 'ADJ':\n",
    "      descriptive_term = token\n",
    "  print(sentence)\n",
    "  print(descriptive_term)"
   ],
   "metadata": {
    "collapsed": false,
    "pycharm": {
     "name": "#%%\n"
    }
   }
  },
  {
   "cell_type": "code",
   "execution_count": 91,
   "outputs": [
    {
     "name": "stdout",
     "output_type": "stream",
     "text": [
      "In the last few weeks weve had two huge events happen in the world both of which were caused by matters relating to freedom of speech.\n",
      "huge\n",
      "The first being the hacking of Sony over The Interview and today the shooting at the offices of a satirical magazine in Paris.\n",
      "satirical\n",
      "I certainly value our free speech but to me there is a clear line between exercising your first amendment right President Obama sucks!\n",
      "right\n",
      "etc and doing things that are known to be offensive to other cultures Satirical cartoons of prophets assassinating leaders etc.\n",
      "Satirical\n",
      "Perhaps this is a bad analogy but if you say something antagonizing to a bully and you get your ass kicked you should have anticipated that outcome.\n",
      "bad\n"
     ]
    }
   ],
   "source": [
    "for sentence in sentences:\n",
    "  doc = nlp(sentence)\n",
    "  descriptive_term = ''\n",
    "  for token in doc:\n",
    "    if token.pos_ == 'ADJ':\n",
    "      prepend = ''\n",
    "      for child in token.children:\n",
    "        if child.pos_ != 'ADV':\n",
    "          continue\n",
    "        prepend += child.text + ' '\n",
    "      descriptive_term = prepend + token.text\n",
    "  print(sentence)\n",
    "  print(descriptive_term)"
   ],
   "metadata": {
    "collapsed": false,
    "pycharm": {
     "name": "#%%\n"
    }
   }
  },
  {
   "cell_type": "code",
   "execution_count": 108,
   "outputs": [
    {
     "name": "stdout",
     "output_type": "stream",
     "text": [
      "In the last few weeks weve had two huge events happen in the world both of which were caused by matters relating to freedom of speech. \n",
      "\n",
      "{'aspect': 'events', 'description': 'huge'} \n",
      "\n",
      "The first being the hacking of Sony over The Interview and today the shooting at the offices of a satirical magazine in Paris. \n",
      "\n",
      "{'aspect': '', 'description': 'satirical'} \n",
      "\n",
      "I certainly value our free speech but to me there is a clear line between exercising your first amendment right President Obama sucks! \n",
      "\n",
      "{'aspect': '', 'description': 'right'} \n",
      "\n",
      "etc and doing things that are known to be offensive to other cultures Satirical cartoons of prophets assassinating leaders etc. \n",
      "\n",
      "{'aspect': '', 'description': 'Satirical'} \n",
      "\n",
      "Perhaps this is a bad analogy but if you say something antagonizing to a bully and you get your ass kicked you should have anticipated that outcome. \n",
      "\n",
      "{'aspect': 'ass', 'description': 'bad'} \n",
      "\n"
     ]
    }
   ],
   "source": [
    "# Identify the targets (aspects) being described\n",
    "\n",
    "aspects = []\n",
    "for sentence in sentences:\n",
    "  doc = nlp(sentence)\n",
    "  descriptive_term = ''\n",
    "  target = ''\n",
    "\n",
    "  for token in doc:\n",
    "    if token.dep_ == 'nsubj' and token.pos_ == 'NOUN':\n",
    "    # if token.dep_ == 'nsubj':\n",
    "      target = token.text\n",
    "    if token.pos_ == 'ADJ':\n",
    "      prepend = ''\n",
    "      for child in token.children:\n",
    "        if child.pos_ != 'ADV':\n",
    "          continue\n",
    "        prepend += child.text + ' '\n",
    "      descriptive_term = prepend + token.text\n",
    "\n",
    "  aspects.append({'aspect': target,\n",
    "  'description': descriptive_term})\n",
    "\n",
    "\n",
    "for i, j in zip(aspects, sentences):\n",
    "  print(j, \"\\n\")\n",
    "  print(i, \"\\n\")"
   ],
   "metadata": {
    "collapsed": false,
    "pycharm": {
     "name": "#%%\n"
    }
   }
  },
  {
   "cell_type": "code",
   "execution_count": null,
   "outputs": [],
   "source": [],
   "metadata": {
    "collapsed": false,
    "pycharm": {
     "name": "#%%\n"
    }
   }
  }
 ],
 "metadata": {
  "kernelspec": {
   "display_name": "Python 3",
   "language": "python",
   "name": "python3"
  },
  "language_info": {
   "codemirror_mode": {
    "name": "ipython",
    "version": 2
   },
   "file_extension": ".py",
   "mimetype": "text/x-python",
   "name": "python",
   "nbconvert_exporter": "python",
   "pygments_lexer": "ipython2",
   "version": "2.7.6"
  }
 },
 "nbformat": 4,
 "nbformat_minor": 0
}