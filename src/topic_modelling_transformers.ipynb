{
 "cells": [
  {
   "cell_type": "code",
   "execution_count": 8,
   "metadata": {
    "collapsed": true
   },
   "outputs": [],
   "source": [
    "import json\n",
    "import pandas as pd"
   ]
  },
  {
   "cell_type": "code",
   "execution_count": 44,
   "outputs": [
    {
     "data": {
      "text/plain": "           id                                              title  \\\n0   t3_2ro9ux               Anything that is manmade is natural.   \n1   t3_2ro0ti                        Essential Oils are bullshit   \n2   t3_2rnr30  I think the Paris shooting makes a good case f...   \n3   t3_2rnfn0  Explaining causation is not blaming the victim...   \n4   t3_2rnfn0  Explaining causation is not blaming the victim...   \n5   t3_2rmy6e  Philosophy has no tangible value as an academi...   \n6   t3_2rmy6e  Philosophy has no tangible value as an academi...   \n7   t3_2rmwcd           Freedom of speech is being taken too far   \n8   t3_2rkzen  Eugenics isnt all that bad... And we dont even...   \n9   t3_2rkzen  Eugenics isnt all that bad... And we dont even...   \n10  t3_2rkzen  Eugenics isnt all that bad... And we dont even...   \n11  t3_2rkjr3  Irony aside most people that post in are unedu...   \n12  t3_2rk7my  Driving a car is insanely risky and probably t...   \n13  t3_2rk7my  Driving a car is insanely risky and probably t...   \n14  t3_2rgs7o  Assuming there is no afterlife then life is ul...   \n15  t3_2rexe3  ETs SAR firefighters police etc. should receiv...   \n16  t3_2rekjo  I believe you have three choices once you disc...   \n17  t3_2rd7mg  America is a better place because of the milli...   \n18  t3_2rd7mg  America is a better place because of the milli...   \n19  t3_2rcsdh  Humans are going to die out because of an econ...   \n\n                                      title_sentences  \\\n0              [anything that is manmade is natural.]   \n1                       [essential oils are bullshit]   \n2   [i think the paris shooting makes a good case ...   \n3   [explaining causation is not blaming the victi...   \n4   [explaining causation is not blaming the victi...   \n5   [philosophy has no tangible value as an academ...   \n6   [philosophy has no tangible value as an academ...   \n7          [freedom of speech is being taken too far]   \n8   [eugenics isnt all that bad..., and we dont ev...   \n9   [eugenics isnt all that bad..., and we dont ev...   \n10  [eugenics isnt all that bad..., and we dont ev...   \n11  [irony aside most people that post in are uned...   \n12  [driving a car is insanely risky and probably ...   \n13  [driving a car is insanely risky and probably ...   \n14  [assuming there is no afterlife then life is u...   \n15  [ets sar firefighters police etc. should recei...   \n16  [i believe you have three choices once you dis...   \n17  [america is a better place because of the mill...   \n18  [america is a better place because of the mill...   \n19  [humans are going to die out because of an eco...   \n\n                                          title_lemma  \\\n0       [anything, that, be, manmade, be, natural, .]   \n1                      [essential, oil, be, bullshit]   \n2   [i, think, the, paris, shooting, make, a, good...   \n3   [explain, causation, be, not, blame, the, vict...   \n4   [explain, causation, be, not, blame, the, vict...   \n5   [philosophy, have, no, tangible, value, as, an...   \n6   [philosophy, have, no, tangible, value, as, an...   \n7       [freedom, of, speech, be, be, take, too, far]   \n8   [eugenics, be, not, all, that, bad, ..., and, ...   \n9   [eugenics, be, not, all, that, bad, ..., and, ...   \n10  [eugenics, be, not, all, that, bad, ..., and, ...   \n11  [irony, aside, most, people, that, post, in, b...   \n12  [drive, a, car, be, insanely, risky, and, prob...   \n13  [drive, a, car, be, insanely, risky, and, prob...   \n14  [assume, there, be, no, afterlife, then, life,...   \n15  [ets, sar, firefighter, police, etc, ., should...   \n16  [i, believe, you, have, three, choice, once, y...   \n17  [america, be, a, well, place, because, of, the...   \n18  [america, be, a, well, place, because, of, the...   \n19  [human, be, go, to, die, out, because, of, an,...   \n\n                  key_phrases_titles_n1  \\\n0                    [natural, manmade]   \n1           [oils, essential, bullshit]   \n2                [shooting, paris, gun]   \n3          [causation, blaming, victim]   \n4          [causation, blaming, victim]   \n5      [philosophy, academic, tangible]   \n6      [philosophy, academic, tangible]   \n7                [freedom, speech, far]   \n8                 [eugenics, kill, bad]   \n9                 [eugenics, kill, bad]   \n10                [eugenics, kill, bad]   \n11           [irony, uneducated, point]   \n12          [driving, dangerous, risky]   \n13          [driving, dangerous, risky]   \n14  [afterlife, meaningless, pointless]   \n15        [firefighters, military, sar]   \n16             [meat, choices, animals]   \n17          [abortions, america, place]   \n18          [abortions, america, place]   \n19            [collapse, economic, die]   \n\n                                key_phrases_titles_n3  \\\n0                 [manmade natural, natural, manmade]   \n1   [essential oils bullshit, oils bullshit, essen...   \n2   [culture responsible gun, responsible gun owne...   \n3   [causation blaming victim, explaining causatio...   \n4   [causation blaming victim, explaining causatio...   \n5   [philosophy tangible value, philosophy tangibl...   \n6   [philosophy tangible value, philosophy tangibl...   \n7   [freedom speech taken, freedom speech, speech ...   \n8        [eugenics isnt bad, eugenics isnt, eugenics]   \n9        [eugenics isnt bad, eugenics isnt, eugenics]   \n10       [eugenics isnt bad, eugenics isnt, eugenics]   \n11  [people post uneducated, post uneducated, iron...   \n12  [car insanely risky, driving car insanely, ris...   \n13  [car insanely risky, driving car insanely, ris...   \n14  [life ultimately meaningless, afterlife life u...   \n15  [military discounts, receive military discount...   \n16  [endure meat industry, animals endure meat, en...   \n17  [place million abortions, america better place...   \n18  [place million abortions, america better place...   \n19  [die economic collapse, economic collapse, hum...   \n\n                                                 args  \\\n0   I cant remember the topic that spurred this di...   \n1   y wife has recently gotten deeply involvedobse...   \n2   Thinking about todays news BB Wikipedia I thin...   \n3   Ive been thinking about this issue for a while...   \n4   Ive been thinking about this issue for a while...   \n5   As an independent form of study philosophy doe...   \n6   As an independent form of study philosophy doe...   \n7   In the last few weeks weve had two huge events...   \n8   Okay Im talking about making the human race sm...   \n9   Okay Im talking about making the human race sm...   \n10  Okay Im talking about making the human race sm...   \n11  There are some instances yes where controversi...   \n12  I find it difficult to understand how so many ...   \n13  I find it difficult to understand how so many ...   \n14  Note Please assume that there is no afterlife ...   \n15  For those of you who dont know its common at l...   \n16  The options are as follows . You dont agree wi...   \n17  There have been million abortions in the US si...   \n18  There have been million abortions in the US si...   \n19  Bill Gade presents the argument better than I ...   \n\n                                       args_sentences  \\\n0   [i cant remember the topic that spurred this d...   \n1   [y wife has recently gotten deeply involvedobs...   \n2   [thinking about todays news bb wikipedia i thi...   \n3   [ive been thinking about this issue for a whil...   \n4   [ive been thinking about this issue for a whil...   \n5   [as an independent form of study philosophy do...   \n6   [as an independent form of study philosophy do...   \n7   [in the last few weeks weve had two huge event...   \n8   [okay im talking about making the human race s...   \n9   [okay im talking about making the human race s...   \n10  [okay im talking about making the human race s...   \n11  [there are some instances yes where controvers...   \n12  [i find it difficult to understand how so many...   \n13  [i find it difficult to understand how so many...   \n14  [note please assume that there is no afterlife...   \n15  [for those of you who dont know its common at ...   \n16  [the options are as follows ., you dont agree ...   \n17  [there have been million abortions in the us s...   \n18  [there have been million abortions in the us s...   \n19  [bill gade presents the argument better than i...   \n\n                                           args_lemma  \\\n0   [i, can, not, remember, the, topic, that, spur...   \n1   [y, wife, have, recently, get, deeply, involve...   \n2   [think, about, today, news, bb, wikipedia, i, ...   \n3   [i, ve, be, think, about, this, issue, for, a,...   \n4   [i, ve, be, think, about, this, issue, for, a,...   \n5   [as, an, independent, form, of, study, philoso...   \n6   [as, an, independent, form, of, study, philoso...   \n7   [in, the, last, few, week, we, ve, have, two, ...   \n8   [okay, i, m, talk, about, make, the, human, ra...   \n9   [okay, i, m, talk, about, make, the, human, ra...   \n10  [okay, i, m, talk, about, make, the, human, ra...   \n11  [there, be, some, instance, yes, where, contro...   \n12  [i, find, it, difficult, to, understand, how, ...   \n13  [i, find, it, difficult, to, understand, how, ...   \n14  [note, please, assume, that, there, be, no, af...   \n15  [for, those, of, you, who, do, not, know, its,...   \n16  [the, option, be, as, follow, ., you, do, not,...   \n17  [there, have, be, million, abortion, in, the, ...   \n18  [there, have, be, million, abortion, in, the, ...   \n19  [bill, gade, present, the, argument, well, tha...   \n\n                             key_phrases_n1  \\\n0              [unnatural, natural, nature]   \n1                    [oils, fda, debunking]   \n2           [xenophobic, nationalists, gun]   \n3              [blaming, victim, causation]   \n4              [blaming, victim, causation]   \n5   [philosophy, philosophical, worthwhile]   \n6   [philosophy, philosophical, worthwhile]   \n7              [freedom, speech, offensive]   \n8                   [iq, iqs, intelligence]   \n9                   [iq, iqs, intelligence]   \n10                  [iq, iqs, intelligence]   \n11         [controversial, atheism, debate]   \n12          [driving, accidents, dangerous]   \n13          [driving, accidents, dangerous]   \n14    [afterlife, meaningless, nothingness]   \n15          [veterans, discounts, soldiers]   \n16           [options, animals, supporting]   \n17        [abortions, abortion, population]   \n18        [abortions, abortion, population]   \n19         [agriculture, economy, economic]   \n\n                         key_phrases_n3  \\\n0                    [natural, manmade]   \n1           [oils, essential, bullshit]   \n2                [shooting, paris, gun]   \n3          [causation, blaming, victim]   \n4          [causation, blaming, victim]   \n5      [philosophy, academic, tangible]   \n6      [philosophy, academic, tangible]   \n7                [freedom, speech, far]   \n8                 [eugenics, kill, bad]   \n9                 [eugenics, kill, bad]   \n10                [eugenics, kill, bad]   \n11           [irony, uneducated, point]   \n12          [driving, dangerous, risky]   \n13          [driving, dangerous, risky]   \n14  [afterlife, meaningless, pointless]   \n15        [firefighters, military, sar]   \n16             [meat, choices, animals]   \n17          [abortions, america, place]   \n18          [abortions, america, place]   \n19            [collapse, economic, die]   \n\n                                             counters  \\\n0   Look at the definition you provided if we remo...   \n1   This answer in raskscience does a pretty good ...   \n2   I guess I look at it this way there have absol...   \n3   I would say that the difficulty here is in ass...   \n4   I think youre correct for the most part but st...   \n5   Two answers. rigor and it saves us from reinve...   \n6   Let me take a crack at this as someone with a ...   \n7   Think of something you do every day that you c...   \n8   Every time a proposal like this comes up I am ...   \n9   Firstly IQ is not considered to be a good or a...   \n10  It looks to me like youve made so many excepti...   \n11  Say youre right and most of the people who pos...   \n12  There is a way to measure risk called a microm...   \n13  ortality for drivers in the US is roughly per ...   \n14  I have contemplated this since I was a young t...   \n15  I challenge the idea that these are to thank t...   \n16  I think restricting this concept to the meat i...   \n17  The only way your argument holds is if an extr...   \n18  If the abortions were born it would have virtu...   \n19  I watched the video and I understand it. Bill ...   \n\n                                       counters_lemma  \\\n0   [look, at, the, definition, you, provide, if, ...   \n1   [this, answer, in, raskscience, do, a, pretty,...   \n2   [i, guess, i, look, at, it, this, way, there, ...   \n3   [i, would, say, that, the, difficulty, here, b...   \n4   [i, think, you, re, correct, for, the, most, p...   \n5   [two, answer, ., rigor, and, it, save, we, fro...   \n6   [let, i, take, a, crack, at, this, as, someone...   \n7   [think, of, something, you, do, every, day, th...   \n8   [every, time, a, proposal, like, this, come, u...   \n9   [firstly, iq, be, not, consider, to, be, a, go...   \n10  [it, look, to, i, like, you, ve, make, so, man...   \n11  [say, you, re, right, and, most, of, the, peop...   \n12  [there, be, a, way, to, measure, risk, call, a...   \n13  [ortality, for, driver, in, the, us, be, rough...   \n14  [i, have, contemplate, this, since, i, be, a, ...   \n15  [i, challenge, the, idea, that, these, be, to,...   \n16  [i, think, restrict, this, concept, to, the, m...   \n17  [the, only, way, your, argument, hold, be, if,...   \n18  [if, the, abortion, be, bear, it, would, have,...   \n19  [i, watch, the, video, and, i, understand, it,...   \n\n                                   counters_sentences  \n0   [look at the definition you provided if we rem...  \n1   [this answer in raskscience does a pretty good...  \n2   [i guess i look at it this way there have abso...  \n3   [i would say that the difficulty here is in as...  \n4   [i think youre correct for the most part but s...  \n5   [two answers., rigor and it saves us from rein...  \n6   [let me take a crack at this as someone with a...  \n7   [think of something you do every day that you ...  \n8   [every time a proposal like this comes up i am...  \n9   [firstly iq is not considered to be a good or ...  \n10  [it looks to me like youve made so many except...  \n11  [say youre right and most of the people who po...  \n12  [there is a way to measure risk called a micro...  \n13  [ortality for drivers in the us is roughly per...  \n14  [i have contemplated this since i was a young ...  \n15  [i challenge the idea that these are to thank ...  \n16  [i think restricting this concept to the meat ...  \n17  [the only way your argument holds is if an ext...  \n18  [if the abortions were born it would have virt...  \n19  [i watched the video and i understand it., bil...  ",
      "text/html": "<div>\n<style scoped>\n    .dataframe tbody tr th:only-of-type {\n        vertical-align: middle;\n    }\n\n    .dataframe tbody tr th {\n        vertical-align: top;\n    }\n\n    .dataframe thead th {\n        text-align: right;\n    }\n</style>\n<table border=\"1\" class=\"dataframe\">\n  <thead>\n    <tr style=\"text-align: right;\">\n      <th></th>\n      <th>id</th>\n      <th>title</th>\n      <th>title_sentences</th>\n      <th>title_lemma</th>\n      <th>key_phrases_titles_n1</th>\n      <th>key_phrases_titles_n3</th>\n      <th>args</th>\n      <th>args_sentences</th>\n      <th>args_lemma</th>\n      <th>key_phrases_n1</th>\n      <th>key_phrases_n3</th>\n      <th>counters</th>\n      <th>counters_lemma</th>\n      <th>counters_sentences</th>\n    </tr>\n  </thead>\n  <tbody>\n    <tr>\n      <th>0</th>\n      <td>t3_2ro9ux</td>\n      <td>Anything that is manmade is natural.</td>\n      <td>[anything that is manmade is natural.]</td>\n      <td>[anything, that, be, manmade, be, natural, .]</td>\n      <td>[natural, manmade]</td>\n      <td>[manmade natural, natural, manmade]</td>\n      <td>I cant remember the topic that spurred this di...</td>\n      <td>[i cant remember the topic that spurred this d...</td>\n      <td>[i, can, not, remember, the, topic, that, spur...</td>\n      <td>[unnatural, natural, nature]</td>\n      <td>[natural, manmade]</td>\n      <td>Look at the definition you provided if we remo...</td>\n      <td>[look, at, the, definition, you, provide, if, ...</td>\n      <td>[look at the definition you provided if we rem...</td>\n    </tr>\n    <tr>\n      <th>1</th>\n      <td>t3_2ro0ti</td>\n      <td>Essential Oils are bullshit</td>\n      <td>[essential oils are bullshit]</td>\n      <td>[essential, oil, be, bullshit]</td>\n      <td>[oils, essential, bullshit]</td>\n      <td>[essential oils bullshit, oils bullshit, essen...</td>\n      <td>y wife has recently gotten deeply involvedobse...</td>\n      <td>[y wife has recently gotten deeply involvedobs...</td>\n      <td>[y, wife, have, recently, get, deeply, involve...</td>\n      <td>[oils, fda, debunking]</td>\n      <td>[oils, essential, bullshit]</td>\n      <td>This answer in raskscience does a pretty good ...</td>\n      <td>[this, answer, in, raskscience, do, a, pretty,...</td>\n      <td>[this answer in raskscience does a pretty good...</td>\n    </tr>\n    <tr>\n      <th>2</th>\n      <td>t3_2rnr30</td>\n      <td>I think the Paris shooting makes a good case f...</td>\n      <td>[i think the paris shooting makes a good case ...</td>\n      <td>[i, think, the, paris, shooting, make, a, good...</td>\n      <td>[shooting, paris, gun]</td>\n      <td>[culture responsible gun, responsible gun owne...</td>\n      <td>Thinking about todays news BB Wikipedia I thin...</td>\n      <td>[thinking about todays news bb wikipedia i thi...</td>\n      <td>[think, about, today, news, bb, wikipedia, i, ...</td>\n      <td>[xenophobic, nationalists, gun]</td>\n      <td>[shooting, paris, gun]</td>\n      <td>I guess I look at it this way there have absol...</td>\n      <td>[i, guess, i, look, at, it, this, way, there, ...</td>\n      <td>[i guess i look at it this way there have abso...</td>\n    </tr>\n    <tr>\n      <th>3</th>\n      <td>t3_2rnfn0</td>\n      <td>Explaining causation is not blaming the victim...</td>\n      <td>[explaining causation is not blaming the victi...</td>\n      <td>[explain, causation, be, not, blame, the, vict...</td>\n      <td>[causation, blaming, victim]</td>\n      <td>[causation blaming victim, explaining causatio...</td>\n      <td>Ive been thinking about this issue for a while...</td>\n      <td>[ive been thinking about this issue for a whil...</td>\n      <td>[i, ve, be, think, about, this, issue, for, a,...</td>\n      <td>[blaming, victim, causation]</td>\n      <td>[causation, blaming, victim]</td>\n      <td>I would say that the difficulty here is in ass...</td>\n      <td>[i, would, say, that, the, difficulty, here, b...</td>\n      <td>[i would say that the difficulty here is in as...</td>\n    </tr>\n    <tr>\n      <th>4</th>\n      <td>t3_2rnfn0</td>\n      <td>Explaining causation is not blaming the victim...</td>\n      <td>[explaining causation is not blaming the victi...</td>\n      <td>[explain, causation, be, not, blame, the, vict...</td>\n      <td>[causation, blaming, victim]</td>\n      <td>[causation blaming victim, explaining causatio...</td>\n      <td>Ive been thinking about this issue for a while...</td>\n      <td>[ive been thinking about this issue for a whil...</td>\n      <td>[i, ve, be, think, about, this, issue, for, a,...</td>\n      <td>[blaming, victim, causation]</td>\n      <td>[causation, blaming, victim]</td>\n      <td>I think youre correct for the most part but st...</td>\n      <td>[i, think, you, re, correct, for, the, most, p...</td>\n      <td>[i think youre correct for the most part but s...</td>\n    </tr>\n    <tr>\n      <th>5</th>\n      <td>t3_2rmy6e</td>\n      <td>Philosophy has no tangible value as an academi...</td>\n      <td>[philosophy has no tangible value as an academ...</td>\n      <td>[philosophy, have, no, tangible, value, as, an...</td>\n      <td>[philosophy, academic, tangible]</td>\n      <td>[philosophy tangible value, philosophy tangibl...</td>\n      <td>As an independent form of study philosophy doe...</td>\n      <td>[as an independent form of study philosophy do...</td>\n      <td>[as, an, independent, form, of, study, philoso...</td>\n      <td>[philosophy, philosophical, worthwhile]</td>\n      <td>[philosophy, academic, tangible]</td>\n      <td>Two answers. rigor and it saves us from reinve...</td>\n      <td>[two, answer, ., rigor, and, it, save, we, fro...</td>\n      <td>[two answers., rigor and it saves us from rein...</td>\n    </tr>\n    <tr>\n      <th>6</th>\n      <td>t3_2rmy6e</td>\n      <td>Philosophy has no tangible value as an academi...</td>\n      <td>[philosophy has no tangible value as an academ...</td>\n      <td>[philosophy, have, no, tangible, value, as, an...</td>\n      <td>[philosophy, academic, tangible]</td>\n      <td>[philosophy tangible value, philosophy tangibl...</td>\n      <td>As an independent form of study philosophy doe...</td>\n      <td>[as an independent form of study philosophy do...</td>\n      <td>[as, an, independent, form, of, study, philoso...</td>\n      <td>[philosophy, philosophical, worthwhile]</td>\n      <td>[philosophy, academic, tangible]</td>\n      <td>Let me take a crack at this as someone with a ...</td>\n      <td>[let, i, take, a, crack, at, this, as, someone...</td>\n      <td>[let me take a crack at this as someone with a...</td>\n    </tr>\n    <tr>\n      <th>7</th>\n      <td>t3_2rmwcd</td>\n      <td>Freedom of speech is being taken too far</td>\n      <td>[freedom of speech is being taken too far]</td>\n      <td>[freedom, of, speech, be, be, take, too, far]</td>\n      <td>[freedom, speech, far]</td>\n      <td>[freedom speech taken, freedom speech, speech ...</td>\n      <td>In the last few weeks weve had two huge events...</td>\n      <td>[in the last few weeks weve had two huge event...</td>\n      <td>[in, the, last, few, week, we, ve, have, two, ...</td>\n      <td>[freedom, speech, offensive]</td>\n      <td>[freedom, speech, far]</td>\n      <td>Think of something you do every day that you c...</td>\n      <td>[think, of, something, you, do, every, day, th...</td>\n      <td>[think of something you do every day that you ...</td>\n    </tr>\n    <tr>\n      <th>8</th>\n      <td>t3_2rkzen</td>\n      <td>Eugenics isnt all that bad... And we dont even...</td>\n      <td>[eugenics isnt all that bad..., and we dont ev...</td>\n      <td>[eugenics, be, not, all, that, bad, ..., and, ...</td>\n      <td>[eugenics, kill, bad]</td>\n      <td>[eugenics isnt bad, eugenics isnt, eugenics]</td>\n      <td>Okay Im talking about making the human race sm...</td>\n      <td>[okay im talking about making the human race s...</td>\n      <td>[okay, i, m, talk, about, make, the, human, ra...</td>\n      <td>[iq, iqs, intelligence]</td>\n      <td>[eugenics, kill, bad]</td>\n      <td>Every time a proposal like this comes up I am ...</td>\n      <td>[every, time, a, proposal, like, this, come, u...</td>\n      <td>[every time a proposal like this comes up i am...</td>\n    </tr>\n    <tr>\n      <th>9</th>\n      <td>t3_2rkzen</td>\n      <td>Eugenics isnt all that bad... And we dont even...</td>\n      <td>[eugenics isnt all that bad..., and we dont ev...</td>\n      <td>[eugenics, be, not, all, that, bad, ..., and, ...</td>\n      <td>[eugenics, kill, bad]</td>\n      <td>[eugenics isnt bad, eugenics isnt, eugenics]</td>\n      <td>Okay Im talking about making the human race sm...</td>\n      <td>[okay im talking about making the human race s...</td>\n      <td>[okay, i, m, talk, about, make, the, human, ra...</td>\n      <td>[iq, iqs, intelligence]</td>\n      <td>[eugenics, kill, bad]</td>\n      <td>Firstly IQ is not considered to be a good or a...</td>\n      <td>[firstly, iq, be, not, consider, to, be, a, go...</td>\n      <td>[firstly iq is not considered to be a good or ...</td>\n    </tr>\n    <tr>\n      <th>10</th>\n      <td>t3_2rkzen</td>\n      <td>Eugenics isnt all that bad... And we dont even...</td>\n      <td>[eugenics isnt all that bad..., and we dont ev...</td>\n      <td>[eugenics, be, not, all, that, bad, ..., and, ...</td>\n      <td>[eugenics, kill, bad]</td>\n      <td>[eugenics isnt bad, eugenics isnt, eugenics]</td>\n      <td>Okay Im talking about making the human race sm...</td>\n      <td>[okay im talking about making the human race s...</td>\n      <td>[okay, i, m, talk, about, make, the, human, ra...</td>\n      <td>[iq, iqs, intelligence]</td>\n      <td>[eugenics, kill, bad]</td>\n      <td>It looks to me like youve made so many excepti...</td>\n      <td>[it, look, to, i, like, you, ve, make, so, man...</td>\n      <td>[it looks to me like youve made so many except...</td>\n    </tr>\n    <tr>\n      <th>11</th>\n      <td>t3_2rkjr3</td>\n      <td>Irony aside most people that post in are unedu...</td>\n      <td>[irony aside most people that post in are uned...</td>\n      <td>[irony, aside, most, people, that, post, in, b...</td>\n      <td>[irony, uneducated, point]</td>\n      <td>[people post uneducated, post uneducated, iron...</td>\n      <td>There are some instances yes where controversi...</td>\n      <td>[there are some instances yes where controvers...</td>\n      <td>[there, be, some, instance, yes, where, contro...</td>\n      <td>[controversial, atheism, debate]</td>\n      <td>[irony, uneducated, point]</td>\n      <td>Say youre right and most of the people who pos...</td>\n      <td>[say, you, re, right, and, most, of, the, peop...</td>\n      <td>[say youre right and most of the people who po...</td>\n    </tr>\n    <tr>\n      <th>12</th>\n      <td>t3_2rk7my</td>\n      <td>Driving a car is insanely risky and probably t...</td>\n      <td>[driving a car is insanely risky and probably ...</td>\n      <td>[drive, a, car, be, insanely, risky, and, prob...</td>\n      <td>[driving, dangerous, risky]</td>\n      <td>[car insanely risky, driving car insanely, ris...</td>\n      <td>I find it difficult to understand how so many ...</td>\n      <td>[i find it difficult to understand how so many...</td>\n      <td>[i, find, it, difficult, to, understand, how, ...</td>\n      <td>[driving, accidents, dangerous]</td>\n      <td>[driving, dangerous, risky]</td>\n      <td>There is a way to measure risk called a microm...</td>\n      <td>[there, be, a, way, to, measure, risk, call, a...</td>\n      <td>[there is a way to measure risk called a micro...</td>\n    </tr>\n    <tr>\n      <th>13</th>\n      <td>t3_2rk7my</td>\n      <td>Driving a car is insanely risky and probably t...</td>\n      <td>[driving a car is insanely risky and probably ...</td>\n      <td>[drive, a, car, be, insanely, risky, and, prob...</td>\n      <td>[driving, dangerous, risky]</td>\n      <td>[car insanely risky, driving car insanely, ris...</td>\n      <td>I find it difficult to understand how so many ...</td>\n      <td>[i find it difficult to understand how so many...</td>\n      <td>[i, find, it, difficult, to, understand, how, ...</td>\n      <td>[driving, accidents, dangerous]</td>\n      <td>[driving, dangerous, risky]</td>\n      <td>ortality for drivers in the US is roughly per ...</td>\n      <td>[ortality, for, driver, in, the, us, be, rough...</td>\n      <td>[ortality for drivers in the us is roughly per...</td>\n    </tr>\n    <tr>\n      <th>14</th>\n      <td>t3_2rgs7o</td>\n      <td>Assuming there is no afterlife then life is ul...</td>\n      <td>[assuming there is no afterlife then life is u...</td>\n      <td>[assume, there, be, no, afterlife, then, life,...</td>\n      <td>[afterlife, meaningless, pointless]</td>\n      <td>[life ultimately meaningless, afterlife life u...</td>\n      <td>Note Please assume that there is no afterlife ...</td>\n      <td>[note please assume that there is no afterlife...</td>\n      <td>[note, please, assume, that, there, be, no, af...</td>\n      <td>[afterlife, meaningless, nothingness]</td>\n      <td>[afterlife, meaningless, pointless]</td>\n      <td>I have contemplated this since I was a young t...</td>\n      <td>[i, have, contemplate, this, since, i, be, a, ...</td>\n      <td>[i have contemplated this since i was a young ...</td>\n    </tr>\n    <tr>\n      <th>15</th>\n      <td>t3_2rexe3</td>\n      <td>ETs SAR firefighters police etc. should receiv...</td>\n      <td>[ets sar firefighters police etc. should recei...</td>\n      <td>[ets, sar, firefighter, police, etc, ., should...</td>\n      <td>[firefighters, military, sar]</td>\n      <td>[military discounts, receive military discount...</td>\n      <td>For those of you who dont know its common at l...</td>\n      <td>[for those of you who dont know its common at ...</td>\n      <td>[for, those, of, you, who, do, not, know, its,...</td>\n      <td>[veterans, discounts, soldiers]</td>\n      <td>[firefighters, military, sar]</td>\n      <td>I challenge the idea that these are to thank t...</td>\n      <td>[i, challenge, the, idea, that, these, be, to,...</td>\n      <td>[i challenge the idea that these are to thank ...</td>\n    </tr>\n    <tr>\n      <th>16</th>\n      <td>t3_2rekjo</td>\n      <td>I believe you have three choices once you disc...</td>\n      <td>[i believe you have three choices once you dis...</td>\n      <td>[i, believe, you, have, three, choice, once, y...</td>\n      <td>[meat, choices, animals]</td>\n      <td>[endure meat industry, animals endure meat, en...</td>\n      <td>The options are as follows . You dont agree wi...</td>\n      <td>[the options are as follows ., you dont agree ...</td>\n      <td>[the, option, be, as, follow, ., you, do, not,...</td>\n      <td>[options, animals, supporting]</td>\n      <td>[meat, choices, animals]</td>\n      <td>I think restricting this concept to the meat i...</td>\n      <td>[i, think, restrict, this, concept, to, the, m...</td>\n      <td>[i think restricting this concept to the meat ...</td>\n    </tr>\n    <tr>\n      <th>17</th>\n      <td>t3_2rd7mg</td>\n      <td>America is a better place because of the milli...</td>\n      <td>[america is a better place because of the mill...</td>\n      <td>[america, be, a, well, place, because, of, the...</td>\n      <td>[abortions, america, place]</td>\n      <td>[place million abortions, america better place...</td>\n      <td>There have been million abortions in the US si...</td>\n      <td>[there have been million abortions in the us s...</td>\n      <td>[there, have, be, million, abortion, in, the, ...</td>\n      <td>[abortions, abortion, population]</td>\n      <td>[abortions, america, place]</td>\n      <td>The only way your argument holds is if an extr...</td>\n      <td>[the, only, way, your, argument, hold, be, if,...</td>\n      <td>[the only way your argument holds is if an ext...</td>\n    </tr>\n    <tr>\n      <th>18</th>\n      <td>t3_2rd7mg</td>\n      <td>America is a better place because of the milli...</td>\n      <td>[america is a better place because of the mill...</td>\n      <td>[america, be, a, well, place, because, of, the...</td>\n      <td>[abortions, america, place]</td>\n      <td>[place million abortions, america better place...</td>\n      <td>There have been million abortions in the US si...</td>\n      <td>[there have been million abortions in the us s...</td>\n      <td>[there, have, be, million, abortion, in, the, ...</td>\n      <td>[abortions, abortion, population]</td>\n      <td>[abortions, america, place]</td>\n      <td>If the abortions were born it would have virtu...</td>\n      <td>[if, the, abortion, be, bear, it, would, have,...</td>\n      <td>[if the abortions were born it would have virt...</td>\n    </tr>\n    <tr>\n      <th>19</th>\n      <td>t3_2rcsdh</td>\n      <td>Humans are going to die out because of an econ...</td>\n      <td>[humans are going to die out because of an eco...</td>\n      <td>[human, be, go, to, die, out, because, of, an,...</td>\n      <td>[collapse, economic, die]</td>\n      <td>[die economic collapse, economic collapse, hum...</td>\n      <td>Bill Gade presents the argument better than I ...</td>\n      <td>[bill gade presents the argument better than i...</td>\n      <td>[bill, gade, present, the, argument, well, tha...</td>\n      <td>[agriculture, economy, economic]</td>\n      <td>[collapse, economic, die]</td>\n      <td>I watched the video and I understand it. Bill ...</td>\n      <td>[i, watch, the, video, and, i, understand, it,...</td>\n      <td>[i watched the video and i understand it., bil...</td>\n    </tr>\n  </tbody>\n</table>\n</div>"
     },
     "execution_count": 44,
     "metadata": {},
     "output_type": "execute_result"
    }
   ],
   "source": [
    "# LOAD\n",
    "SAMPLE = 20\n",
    "debate = []\n",
    "\n",
    "for line in open('../data/debate_nlp.jsonl', 'r'):\n",
    "    debate.append(json.loads(line))\n",
    "\n",
    "args = pd.DataFrame(debate[0:SAMPLE])\n",
    "args"
   ],
   "metadata": {
    "collapsed": false,
    "pycharm": {
     "name": "#%%\n"
    }
   }
  },
  {
   "cell_type": "code",
   "execution_count": 47,
   "outputs": [],
   "source": [
    "from sentence_transformers import SentenceTransformer, util\n",
    "import torch\n",
    "\n",
    "query = [\"gun control\", \"abortion\", \"esssential oils\", \"reckless driving\"]\n",
    "\n",
    "corpus = sorted(set(args.title.tolist()))"
   ],
   "metadata": {
    "collapsed": false,
    "pycharm": {
     "name": "#%%\n"
    }
   }
  },
  {
   "cell_type": "code",
   "execution_count": 68,
   "outputs": [
    {
     "name": "stdout",
     "output_type": "stream",
     "text": [
      "\n",
      "\n",
      "======================\n",
      "\n",
      "\n",
      "Query: America is a better place because of the million abortions its had\n",
      "\n",
      "Top 5 most similar sentences in corpus:\n",
      "abortion (Score: 0.5182)\n",
      "\n",
      "\n",
      "======================\n",
      "\n",
      "\n",
      "Query: Anything that is manmade is natural.\n",
      "\n",
      "Top 5 most similar sentences in corpus:\n",
      "esssential oils (Score: 0.2708)\n",
      "\n",
      "\n",
      "======================\n",
      "\n",
      "\n",
      "Query: Assuming there is no afterlife then life is ultimately meaningless and pointless because we die.\n",
      "\n",
      "Top 5 most similar sentences in corpus:\n",
      "abortion (Score: 0.2102)\n",
      "\n",
      "\n",
      "======================\n",
      "\n",
      "\n",
      "Query: Driving a car is insanely risky and probably the most dangerous thing you do in your everyday life.\n",
      "\n",
      "Top 5 most similar sentences in corpus:\n",
      "reckless driving (Score: 0.5671)\n",
      "\n",
      "\n",
      "======================\n",
      "\n",
      "\n",
      "Query: ETs SAR firefighters police etc. should receive military discounts.\n",
      "\n",
      "Top 5 most similar sentences in corpus:\n",
      "gun control (Score: 0.1896)\n",
      "\n",
      "\n",
      "======================\n",
      "\n",
      "\n",
      "Query: Essential Oils are bullshit\n",
      "\n",
      "Top 5 most similar sentences in corpus:\n",
      "esssential oils (Score: 0.6125)\n",
      "\n",
      "\n",
      "======================\n",
      "\n",
      "\n",
      "Query: Eugenics isnt all that bad... And we dont even have to kill anyone for it\n",
      "\n",
      "Top 5 most similar sentences in corpus:\n",
      "abortion (Score: 0.3919)\n",
      "\n",
      "\n",
      "======================\n",
      "\n",
      "\n",
      "Query: Explaining causation is not blaming the victim and its a worthwhile endeavor.\n",
      "\n",
      "Top 5 most similar sentences in corpus:\n",
      "abortion (Score: 0.2562)\n",
      "\n",
      "\n",
      "======================\n",
      "\n",
      "\n",
      "Query: Freedom of speech is being taken too far\n",
      "\n",
      "Top 5 most similar sentences in corpus:\n",
      "gun control (Score: 0.2033)\n",
      "\n",
      "\n",
      "======================\n",
      "\n",
      "\n",
      "Query: Humans are going to die out because of an economic collapse\n",
      "\n",
      "Top 5 most similar sentences in corpus:\n",
      "abortion (Score: 0.2239)\n",
      "\n",
      "\n",
      "======================\n",
      "\n",
      "\n",
      "Query: I believe you have three choices once you discover the suffering animals endure in the meat industry...\n",
      "\n",
      "Top 5 most similar sentences in corpus:\n",
      "abortion (Score: 0.2357)\n",
      "\n",
      "\n",
      "======================\n",
      "\n",
      "\n",
      "Query: I think the Paris shooting makes a good case for culture of responsible gun ownership any carrying.\n",
      "\n",
      "Top 5 most similar sentences in corpus:\n",
      "gun control (Score: 0.4744)\n",
      "\n",
      "\n",
      "======================\n",
      "\n",
      "\n",
      "Query: Irony aside most people that post in are uneducated and changing their view on one point wont solve this overall problem\n",
      "\n",
      "Top 5 most similar sentences in corpus:\n",
      "abortion (Score: 0.1349)\n",
      "\n",
      "\n",
      "======================\n",
      "\n",
      "\n",
      "Query: Philosophy has no tangible value as an academic field of study.\n",
      "\n",
      "Top 5 most similar sentences in corpus:\n",
      "abortion (Score: 0.0913)\n"
     ]
    }
   ],
   "source": [
    "from sentence_transformers import SentenceTransformer, util\n",
    "import torch\n",
    "\n",
    "embedder = SentenceTransformer('all-MiniLM-L6-v2')\n",
    "\n",
    "# Corpus with example sentences\n",
    "corpus = [\"gun control\", \"abortion\", \"esssential oils\", \"reckless driving\"]\n",
    "corpus_embeddings = embedder.encode(corpus, convert_to_tensor=True)\n",
    "\n",
    "# Query sentences:\n",
    "queries = sorted(set(args.title.tolist()))\n",
    "arg_topics = dict((k, []) for k in queries)\n",
    "\n",
    "# Find the closest 5 sentences of the corpus for each query sentence based on cosine similarity\n",
    "top_k = min(1, len(corpus))\n",
    "for query in queries:\n",
    "    query_embedding = embedder.encode(query, convert_to_tensor=True)\n",
    "\n",
    "    # We use cosine-similarity and torch.topk to find the highest 5 scores\n",
    "    cos_scores = util.cos_sim(query_embedding, corpus_embeddings)[0]\n",
    "    top_results = torch.topk(cos_scores, k=top_k)\n",
    "\n",
    "    print(\"\\n\\n======================\\n\\n\")\n",
    "    print(\"Query:\", query)\n",
    "    print(\"\\nTop 5 most similar sentences in corpus:\")\n",
    "\n",
    "    for score, idx in zip(top_results[0], top_results[1]):\n",
    "        print(corpus[idx], \"(Score: {:.4f})\".format(score))\n",
    "        arg_topics[query].append(str(corpus[idx]))"
   ],
   "metadata": {
    "collapsed": false,
    "pycharm": {
     "name": "#%%\n"
    }
   }
  },
  {
   "cell_type": "code",
   "execution_count": 70,
   "outputs": [
    {
     "data": {
      "text/plain": "{'America is a better place because of the million abortions its had': ['abortion'],\n 'Anything that is manmade is natural.': ['esssential oils'],\n 'Assuming there is no afterlife then life is ultimately meaningless and pointless because we die.': ['abortion'],\n 'Driving a car is insanely risky and probably the most dangerous thing you do in your everyday life.': ['reckless driving'],\n 'ETs SAR firefighters police etc. should receive military discounts.': ['gun control'],\n 'Essential Oils are bullshit': ['esssential oils'],\n 'Eugenics isnt all that bad... And we dont even have to kill anyone for it': ['abortion'],\n 'Explaining causation is not blaming the victim and its a worthwhile endeavor.': ['abortion'],\n 'Freedom of speech is being taken too far': ['gun control'],\n 'Humans are going to die out because of an economic collapse': ['abortion'],\n 'I believe you have three choices once you discover the suffering animals endure in the meat industry...': ['abortion'],\n 'I think the Paris shooting makes a good case for culture of responsible gun ownership any carrying.': ['gun control'],\n 'Irony aside most people that post in are uneducated and changing their view on one point wont solve this overall problem': ['abortion'],\n 'Philosophy has no tangible value as an academic field of study.': ['abortion']}"
     },
     "execution_count": 70,
     "metadata": {},
     "output_type": "execute_result"
    }
   ],
   "source": [
    "arg_topics"
   ],
   "metadata": {
    "collapsed": false,
    "pycharm": {
     "name": "#%%\n"
    }
   }
  },
  {
   "cell_type": "code",
   "execution_count": null,
   "outputs": [],
   "source": [],
   "metadata": {
    "collapsed": false,
    "pycharm": {
     "name": "#%%\n"
    }
   }
  }
 ],
 "metadata": {
  "kernelspec": {
   "display_name": "Python 3",
   "language": "python",
   "name": "python3"
  },
  "language_info": {
   "codemirror_mode": {
    "name": "ipython",
    "version": 2
   },
   "file_extension": ".py",
   "mimetype": "text/x-python",
   "name": "python",
   "nbconvert_exporter": "python",
   "pygments_lexer": "ipython2",
   "version": "2.7.6"
  }
 },
 "nbformat": 4,
 "nbformat_minor": 0
}