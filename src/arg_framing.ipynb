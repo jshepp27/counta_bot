{
 "cells": [
  {
   "cell_type": "code",
   "execution_count": 4,
   "metadata": {
    "collapsed": true
   },
   "outputs": [],
   "source": [
    "import pandas as pd\n",
    "\n",
    "framed_args = pd.read_csv(\"../data/Webis-argument-framing.csv\")\n",
    "framed_topics = framed_args[\"topic\"]"
   ]
  },
  {
   "cell_type": "code",
   "execution_count": 8,
   "outputs": [
    {
     "data": {
      "text/plain": "['Censorship of gangsta rap',\n 'European Defence Force',\n 'US debt ceiling deal',\n 'Should the world continue to prosecute Nazi war criminals?',\n 'Assault weapons ban in the United States',\n 'Gun control',\n 'Hydrogen vehicles',\n 'tattoo',\n 'Vegetarianism',\n 'Catholic Church contraception policy',\n 'Home Schooling',\n 'Condoms in schools',\n 'Corporal punishment of children',\n 'Methanol fuel',\n 'French HADOPI antipiracy law',\n 'Funding for space exploration',\n 'Outsourcing',\n 'Protectionism',\n 'Return of Israel to pre-1967 borders',\n 'Steel facade cladding',\n 'Dividing Jerusalem',\n 'Abortion',\n 'Non-interventionism',\n 'Oil drilling in the Arctic National Wildlife Refuge',\n 'Bush economic stimulus plan',\n 'Do offspring have a right to know their biological parents?',\n 'Dollarization',\n 'Corporate free speech',\n 'Is a nuclear Iran intolerable?',\n 'Should parents trick their kids to believe in Santa Claus?',\n 'Communism',\n 'Video surveillance',\n 'Decriminalizing marijuana possession',\n 'Legacy admissions',\n 'Taiwan independence',\n 'Using sanctions to end child labor',\n 'Privatizing social security',\n 'Random sobriety tests for drivers',\n '$700 billion US economic bailout',\n 'Filibuster',\n 'Hunting for sport',\n 'Marriage',\n 'Are schools that are not current on technology limiting their students?',\n 'Abstinence-only vs. comprehensive sex education',\n 'Law school',\n 'Reducing value added tax on contraceptives',\n 'Web 2.0',\n 'Should parents raise children without TV?',\n 'Surrogate mothers',\n 'Standardized Testing For Graduation',\n 'Ban on snowmobiles in US national parks',\n 'Estate tax in the United States',\n 'Cluster bomb ban',\n 'Ticket scalping',\n 'Ban on spanking children',\n 'Progressive tax vs. flat tax',\n 'Progressive tax system',\n 'Is China a threat to international stability?',\n 'Flight Paths Over Residential Areas',\n 'Mine Ban Treaty (Ottawa Treaty)',\n 'A right to die?',\n 'Should plastic shopping bags be banned?',\n 'Bosnia and Herzegovina membership in the EU',\n 'Ivory trading',\n 'Term limits for legislators',\n 'Has globalization worsened international terrorism?',\n 'Biodiversity and Endangered Species',\n 'In some cases juveniles should be tried as adults',\n 'Socialism',\n 'Barack Obama awarded Nobel Peace Prize',\n 'Internment',\n 'Term limits for elected officials',\n 'Ex-felon right to vote',\n 'Models are beneficial for society',\n 'Mandatory labeling of genetically modified foods',\n 'Returning cultural treasures to country of origin',\n 'Ammonia fuel',\n 'Boycott of 2008 Olympics in China',\n 'Foreign military intervention in Chechnya',\n 'US arms sales to Taiwan',\n 'Liberalization of agri-food trade',\n 'Underground nuclear waste storage',\n 'Advertising for tobacco products should be banned',\n 'European Union Expansion',\n 'High-speed rail',\n 'Should aboriginals be treated differently under the law?',\n 'Big government',\n 'Vehicle fuel economy standards',\n 'Ban on communist parties',\n 'Fairness Doctrine',\n 'Humanitarian intervention',\n 'Puerto Rico statehood in America',\n 'Climate change mitigation vs adaptation',\n 'Ecotourism',\n 'EU constitution reform treaty (Lisbon Treaty)',\n 'Democratic peace theory',\n 'Democracy',\n 'Military recruiting in public schools',\n 'Hate crime laws',\n 'Google decision to stop censoring results in China',\n 'Ban on sex toys',\n 'Contraception prescriptions for under-aged girls',\n 'Should everyone in the world speak the same language?',\n 'Driftnet ban',\n 'Airport security profiling',\n 'Compulsory voting',\n 'Cell phones in schools',\n 'Torture',\n 'Cancellation of developing world debt',\n 'Assisted suicide',\n 'Pre-selecting sex of children',\n 'US offshore oil drilling',\n 'Free Trade Area of the Americas',\n 'Alcohol ban',\n 'ASEAN, abolition of',\n 'Public health insurance option',\n 'Social networking sites',\n 'Criminalization of Holocaust denial',\n 'National DNA database',\n 'Castration of sex offenders',\n 'First past the post voting',\n 'Masturbation',\n 'Armed pilots in airplanes',\n 'Should Tony Blaire be made the first president of the EU?',\n 'The World Bank is an obstacle to development',\n 'Crime investigation',\n 'AIG bonuses',\n 'Trying terrorist suspects in civilian courts',\n 'Michigan and Florida delegates in 2008 US elections',\n 'Does the human ego help or hurt the world?',\n 'Twin Towers reconstruction',\n 'Nationalization of banks during economic crisis',\n 'Should the minimum age of candidacy for political office be 18?',\n 'Year-round school',\n 'Ban on human reproductive cloning',\n 'Banning child performers',\n 'Military action against nuclear Iran',\n 'Dismantling the Israeli security wall',\n 'Geoengineering, iron fertilization of algae blooms',\n 'DC handgun ban',\n 'Natural gas',\n 'Abolishing intellectual property rights',\n 'Earmarks',\n 'Israeli raid on Gaza flotilla',\n 'Elective cesarean section',\n 'Beauty pageants',\n 'Deporting illegal immigrants in the US',\n 'Aid for persecuted churches',\n 'Health insurance mandates',\n 'THBT education is the highest value.',\n 'Network neutrality',\n 'Twitter',\n 'Globalization',\n 'McCain vs. Obama',\n 'Primaries in US elections',\n 'Are degrees eseential to success in life?',\n 'Men have easier lives than women',\n 'Israeli military assault in Gaza',\n 'Identity cards',\n 'Obama, meeting with hostile foreign leaders without preconditions',\n 'Taxation of international aviation',\n 'Rebuilding New Orleans',\n 'Roma nation',\n 'Countries should ban the import of goods produced by child labor',\n 'No Child Left Behind Act',\n 'The state should never support failing businesses',\n 'Democrats vs. Republicans',\n 'Genetically modified foods',\n 'Trans fat ban',\n 'Coal-to-liquids (CTL) technology',\n 'Internet makes people closer',\n 'File-sharing',\n 'Gay marriage',\n 'Gays in the US military',\n 'Civil unions vs. gay marriage',\n 'Devolution in Scotland and Wales',\n 'Open primaries',\n 'Animal rights',\n 'Crime cameras',\n 'Reality entertainment programme',\n 'Scrapping the Euro',\n 'South Ossetia independence',\n 'Thorium based nuclear energy',\n 'Bailout of US automakers',\n 'Gay adoption',\n 'Natural gas vehicles',\n 'Guantanamo Bay detention center',\n 'Capitalism vs socialism',\n 'First year dorm rooms',\n 'Means testing for benefits',\n 'Ban on advertising targeting children',\n 'Should Japan remove limitations on its military?',\n 'Should governments bailout journalism?',\n '2010 US bank tax',\n 'Corporate personhood',\n 'Zero tolerance law',\n 'Market vs. regulatory approaches to cutting carbon emissions',\n 'Education vouchers',\n 'Waterboarding',\n 'Trying 9/11 terror suspects in NYC courts',\n 'Fuel cell vehicles',\n 'Quotas for women in corporate boards',\n 'Equal prize money for male and female athletes',\n 'Withdrawing from Iraq',\n 'Ban on smoking in public places',\n 'Colonization of the Moon',\n 'Should school funding be based on academic achievement?',\n 'Should Turkey join the EU?',\n 'Does Islam promote violence?',\n 'Drug testing in schools',\n 'Student cell phones in school',\n 'Banning Muslim hijab',\n 'Ending US sanctions on Cuba',\n 'Video games',\n 'Contraception for the purpose of reducing overpopulation',\n 'International military intervention in Darfur',\n 'Emergency contraception',\n 'Full-body scanners at airports',\n 'Calendar reform',\n 'Legalization of adult incest',\n 'Carbon emissions trading',\n 'Artificial turf fields',\n 'Unilateral US military strike inside Pakistan',\n 'Bullfighting',\n 'Cap-and-trade versus carbon tax',\n 'Phasing out fossil fuel subsidies',\n 'Libertarianism',\n 'China is headed for a revolution',\n 'Three Gorges Dam',\n 'Instant replay in baseball',\n 'Merit pay for teachers',\n 'Zoos',\n 'Election of judges',\n 'US-Indian nuclear deal',\n 'Assassination of a Dictator',\n 'DNA database of criminals',\n 'Bombing Hiroshima and Nagasaki',\n 'Federal funding for embryonic stem cell research',\n 'College football playoffs',\n 'Fusion power',\n 'Republika Srpska secession from Bosnia and Herzegovina',\n 'Breastfeeding in public',\n 'Ban on battlefield lasers',\n 'Guest workers in the United States',\n 'Single-payer universal health care',\n 'Corn ethanol',\n 'Legalization of Marijuana',\n 'NAFTA',\n 'Campaign Finance Reform',\n 'Catholic priest celibacy',\n 'Tidal energy',\n 'Dayton Agreement',\n 'Prohibition of school prayer',\n 'Prostitution',\n 'Citizens United v. Federal Election Commission',\n 'Banning the confederate flag',\n 'Mandatory sentencing',\n 'Teacher-student friendships on Facebook',\n 'Restrictions on freedom of speech',\n 'Graduate tax',\n 'Is Pluto a planet?',\n 'Partitioning Iraq',\n 'Prisoners right to vote',\n 'Citizen initiative',\n 'British EU rebate',\n 'Banning cell phones in cars',\n 'Fish farming ban',\n 'Algae biofuel',\n 'Divided government vs. one-party rule',\n 'Biofuel',\n 'Creationism vs evolution in schools',\n 'Abolition of art subsidies',\n 'Landmines in the Korean Demilitarized Zone',\n 'Turkey EU membership',\n 'US and NATO intervention in Libya',\n 'Wind energy',\n 'Is climate change chiefly human-caused?',\n 'Kosovo independence',\n 'Nude beaches',\n 'Space-based solar power',\n 'TV viewing is harmful to children',\n 'Legalization of homosexuality in India',\n 'Homosexuality',\n 'UN Security Council veto',\n 'US electoral college',\n 'Arranged marriage',\n 'Does television have a malign influence on society?',\n 'Armed police',\n 'Mission to the Moon or Mars?',\n 'Partial-birth abortion',\n 'The UN should increase humanitarian aid to poor nations',\n 'Corporal punishment of adults',\n 'Legalization of drugs',\n 'Debaters make better spouses',\n 'Legality of coca production and consumption',\n 'Remote-control warfare',\n 'Home plate collision rule in baseball',\n 'Affirmative action',\n 'Lowering US drinking age from 21 to 18',\n 'Lifetime ban of athletes using drugs in sports',\n 'Single-sex schools',\n 'Pornography',\n 'Fat tax',\n 'Arizona illegal immigration law',\n 'Is China a threat to the United States?',\n 'Rejection of the American way of life',\n 'Commonwealth of Nations',\n 'Immunity from prosecution for politicians',\n 'Falkland Islands, return of',\n 'Is a nuclear-armed North Korea unacceptable?',\n 'Yucca Mountain nuclear waste repository',\n 'Polygamy',\n 'Superdelegates',\n 'Developed countries have a higher obligation to combat climate change',\n 'Legalization of sado-masochism',\n 'Covenant marriage',\n 'Gene patents',\n 'European missile defense',\n 'European Monetary Fund',\n '700 mile US Mexico border fence',\n 'Religious belief',\n 'Stopping dangerous driving',\n 'Should governments use open source software?',\n 'Infant male circumcision',\n 'Tibet independence',\n 'Electric vehicles',\n 'Genetic screening',\n 'Ban on Antarctic exploitation',\n 'Comprehensive Nuclear-Test-Ban Treaty',\n 'Geoengineering, solar shading',\n 'Right to bear arms in the US',\n 'More troops to Afghanistan under Obama',\n 'Enhanced interrogation techniques',\n 'HIV status should be made public',\n 'Portrayal of women in mass media',\n 'Prohibition of downloading music and films',\n 'Advances in science present a threat',\n 'Bilateral vs multilateral aid',\n 'Cartoon child porn',\n 'Space elevator',\n 'Laughter is the best medicine',\n 'Profit-driven society',\n 'War on Drugs',\n 'Coca Cola',\n 'Kangaroo culling in Australia',\n 'THW support the independence of Kosovo',\n 'Kyoto Protocol',\n 'Ban on public nudity',\n 'Hydroelectric dams',\n 'Muhammad cartoons controversy',\n 'Gender conformity',\n 'Direct democracy',\n 'Ban on Muslim burqa and niqab',\n 'Was the War in Iraq worth it?',\n 'Teacher strikes',\n 'National firearms registry',\n 'New START Treaty',\n 'Should Catholic priests be allowed to marry?',\n 'Death penalty',\n '2009 US economic stimulus',\n 'Smoking ban on public patios',\n 'Bill of rights in the UK',\n 'Harmfulness of Facebook',\n 'NATO expansion',\n 'Needle exchanges',\n 'Palestinian right of return',\n 'Abolition of nuclear weapons',\n 'The UN should prioritize poverty over climate change',\n 'Trade vs aid',\n 'Lowering of drinking age',\n 'Ban on negative political ads',\n 'THW reject the western way of life',\n 'Manned mission to Mars',\n 'Employee Free Choice Act',\n 'Pros and cons of drinking beer',\n 'Gambling',\n 'EU arms sales to China',\n 'Smoking',\n 'Is Islam compatible with democracy?',\n 'Child beauty pageants',\n 'Ban on advertising',\n 'Health insurance cooperatives',\n 'Nuclear energy',\n 'Balanced budget amendment to US Constitution',\n 'Plug-in hybrids',\n 'Reforestation as a solution to global warming',\n 'Charter schools',\n 'Is NATO a relic?',\n 'Free trade',\n 'Privatisation of the State',\n 'Solar energy',\n 'Double Jeopardy Rule, Abolition of',\n 'Cellulosic ethanol',\n 'Hybrid vehicles',\n 'Increase UN Annex I aid for climate change adaptation',\n '4-team college football playoff',\n 'Atheism',\n 'EU Common Foreign and Security Policy',\n 'Anorexics, force-feeding of',\n 'United Nations No Growth Budgets',\n 'School searches of student lockers',\n 'Should colleges ban fraternities?',\n 'Mercenaries',\n 'Path to citizenship for illegal immigrants in the US',\n 'Constitutionality of US health insurance mandates',\n 'DREAM Act',\n 'Ban on extremist political parties',\n 'United Nations Standing Army',\n 'English as US official language',\n 'Warrantless wiretapping in the United States',\n 'Two-party system',\n 'Ban on laser pointers',\n 'Online debate and dialogue',\n 'Adult male circumcision',\n 'Scottish independence',\n 'Women in combat',\n 'Limitations on foreign investment',\n 'Global tax',\n 'Lobbying',\n 'Ban on Muslim veils in France',\n 'U.S. Withdrawal From the United Nations',\n 'Britney Law (protecting celebrities from the paparazzi)',\n 'Divorce',\n 'Geothermal energy',\n 'Is Wikipedia valuable?',\n 'Greece bailout',\n 'Prohibition of flag burning',\n 'Mandatory calorie counts on menus',\n 'Civil disobedience',\n 'Australian republic vs. monarchy',\n 'Should war be televised?',\n 'Value of the United Nations',\n 'Artificial life',\n 'Drivers licenses for Illegal immigrants in the US',\n 'Myspace is your space',\n 'Attorney-Client Privilege',\n 'Ground zero mosque',\n 'Mandatory military service',\n 'International Criminal Court',\n 'Geoengineering',\n 'Fashion is harmful',\n 'Was the Apollo moon landing fake?',\n 'Animal testing',\n 'The pen is mightier than the sword',\n 'Israeli blockade of Gaza',\n 'Veal',\n 'Graduated response antipiracy laws',\n 'Ban on factory farming',\n 'Medical marijuana dispensaries',\n 'Pickens US energy plan',\n 'US health care reform',\n 'Israeli settlements',\n 'EU elected president',\n 'Resolved: That on balance, the No Child Left Behind Act of 2001 has improved academic achievement in the United States',\n 'Russian vs. Georgian justifications in 2008 South Ossetia war',\n 'Sale of human organs for transplants',\n 'Clinton vs. Obama',\n 'Water privatization',\n 'Wave power',\n 'Compulsory vaccination',\n 'Mass migration',\n 'Debate vs. dialogue',\n 'Multiculturalism vs. assimilation',\n 'Two-state solution to Israeli-Palestinian conflict',\n 'Merry Christmas vs Happy Holidays']"
     },
     "execution_count": 8,
     "metadata": {},
     "output_type": "execute_result"
    }
   ],
   "source": [
    "framed_topics_ = set()\n",
    "\n",
    "for i in framed_topics:\n",
    "    if i == \"\":\n",
    "        continue\n",
    "    else:\n",
    "        framed_topics_.add(i.strip())\n",
    "\n",
    "len(framed_topics_)\n",
    "list(framed_topics_)\n",
    "#list(arg20_topics_)"
   ],
   "metadata": {
    "collapsed": false,
    "pycharm": {
     "name": "#%%\n"
    }
   }
  },
  {
   "cell_type": "code",
   "execution_count": 11,
   "outputs": [],
   "source": [
    "# Write Topics\n",
    "with open(\"../data/framed_topics.txt\", \"w\") as f:\n",
    "    for i in framed_topics_:\n",
    "        f.write(i)\n",
    "        f.write(\"\\n\")"
   ],
   "metadata": {
    "collapsed": false,
    "pycharm": {
     "name": "#%%\n"
    }
   }
  },
  {
   "cell_type": "code",
   "execution_count": null,
   "outputs": [],
   "source": [],
   "metadata": {
    "collapsed": false,
    "pycharm": {
     "name": "#%%\n"
    }
   }
  }
 ],
 "metadata": {
  "kernelspec": {
   "display_name": "Python 3",
   "language": "python",
   "name": "python3"
  },
  "language_info": {
   "codemirror_mode": {
    "name": "ipython",
    "version": 2
   },
   "file_extension": ".py",
   "mimetype": "text/x-python",
   "name": "python",
   "nbconvert_exporter": "python",
   "pygments_lexer": "ipython2",
   "version": "2.7.6"
  }
 },
 "nbformat": 4,
 "nbformat_minor": 0
}