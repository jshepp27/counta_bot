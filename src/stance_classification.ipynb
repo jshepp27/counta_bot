{
 "cells": [
  {
   "cell_type": "code",
   "execution_count": 1,
   "metadata": {
    "collapsed": true
   },
   "outputs": [],
   "source": [
    "import json\n",
    "import pandas as pd\n",
    "\n",
    "data = []\n",
    "\n",
    "with open(\"../data/debate.jsonl\", \"r\") as f:\n",
    "    for line in f:\n",
    "        data.append(json.loads(line))"
   ]
  },
  {
   "cell_type": "code",
   "execution_count": 2,
   "outputs": [
    {
     "data": {
      "text/plain": "[{'id': 't3_2ro9ux',\n  'titles': 'Anything that is manmade is natural.',\n  'arguments': 'I cant remember the topic that spurred this discussion but a friend and I were debating whether manmade things were natural. He took the position that they are unnatural. He cited this definition by erriamWebster existing in nature and not made or caused by people coming from nature  as his basis for the distinction for natural vs. unnatural. However I respectfully disagree with his position and furthermore that definition of natural. People arise from nature. Humankinds capacity to create problemsolve analyze rationalize and build also come from natural processes. How are the things we create unnatural? It is only through natural occurrences that we have this ability why is it that we would give the credit of these things solely to man as opposed to nature? We are not separate from nature thus how can any of our actions or creations be unnatural? If we were somehow separate from nature I would understand the distinction between natural and manmade. However I think unnatural and manmade are not synonyms by any means. It seems to me that manmade things UST be natural due to our being part of nature. I would love to hear your arguments and to have my view changed if I am mistaken in my logic somewhere along the line. ',\n  'counters': 'Look at the definition you provided if we remove the exclusion of things which humans create So essentially by this definition natural things are things that exist which is frankly rather meaningless. If one wanted to discuss the results of human activity we would then have to make up a new word which could be redefined by the same argument. The whole point of the word is to exclude human activity. If you remove that aspect it simply ceases to have meaning.'},\n {'id': 't3_2ro0ti',\n  'titles': 'Essential Oils are bullshit',\n  'arguments': 'y wife has recently gotten deeply involvedobsessed with the healing properties of essential oils. I am cursed with a common problem in that I am an extremely skeptical person. I cant help but look at this product and see a pyramid scheme that takes advantage of the gullible. All the shit my wife watches on these oils is carefully worded to make sure they dont make actual healing claims Im told this is because they arent FDA approved and could get in trouble. Ive looked a little and havent found anything debunking these oils but i still cannot help but feel they are total BS. I would love to get more information from unbiased sources on this. Please change my view without just anecdotal testimonies. ',\n  'counters': 'This answer in raskscience does a pretty good job of describing essential oils. As the comment points out there are benefits to essential oils if they are used in the right way. However the current fad mixes the raw essential oils with other stuff that may or may not be good for you. The raw essential oils are actually a vital resource for drug discovery.'},\n {'id': 't3_2rnr30',\n  'titles': 'I think the Paris shooting makes a good case for culture of responsible gun ownership any carrying.',\n  'arguments': 'Thinking about todays news BB Wikipedia I think France is in a tough spot in how to react to this. There would be even stronger calls for an antiislam and antiimmigration policies. These event reminds people that they cannot depend on protection by government. I think it would be a shame to allow the many who are afraid more then anything to be swayed by xenophobic nationalists which might have been the goal of the attack anyway. I think this regardless of whether the weapons used by the attackers were owned legally makes a good case for promoting a culture of a reasonable gun ownership and carrying. Say if out of people carried a gun with them was well trained in its use and tested in his responsibility to prevent its misuse and society upheld the value of these people as protectors it would benefit the society more the the current state of legislature and culture of gun ownership in most of European countries. I also think this would be much better then increase in police numbers and rights as policemen are a very homogeneous group trained to stick together and the danger of even deepening the not one of us pack mentality and escalation of police state. hange my view. PS I am not here to talk about USA and its gun problems. ',\n  'counters': 'I guess I look at it this way there have absolutely been times when gun ownership or carrying weapons on ones person in general was more prevalent than it is today. Those time periodsplaces did not enjoy lower rates of violent death. onsider the wild west. Obviously it wasnt nearly as full of gun battles as the movies make it seem but according this study  the murder rate was extraordinarily high by todays standard. Looking at the rest of the thread I think I see what might be a flaw in our collective logic. The incidents that stand out most in our heads are events like Paris or Aurora or olumbine premeditated shootings with the intent of inflicting a lot of casualties. If the staff at harlie Hebdo or olumbine High had guns they certainly might have been able to end these incidents earlier. They also might have inflicted more casualties with stray bullets. These types of hypothetical calculations arent really helpful in my opinion. But lets assume that more guns makes mass shootings less likely. Would this actually make a more heavily armed society a more polite one? I dont think it would because though premeditated murders could well be less likely accidental deaths unplanned homicides and suicides would like increase. This study found that owning a gun makes one more likely to die from suicide and homicide. Of course thats correlation so there might be some third factor at play that makes gun owners more likely to b targets of crime or clinically depressed but it certainly suggests that owning a gun doesnt automatically make you safer.  Whether or not more guns would prevent events like todays isnt the issue though I am inclined to say they wouldnt necessarily do that it seems like a greater proliferation of weapons would be more dangerous for a number of other reasons.'},\n {'id': 't3_2rnfn0',\n  'titles': 'Explaining causation is not blaming the victim and its a worthwhile endeavor.',\n  'arguments': 'Ive been thinking about this issue for a while. The sentence in the title is an oversimplification of the view but Ill elaborate more here. Technically its a twopart view Explaining causation is not blaming the victim. Explaining causation is a worthwhile endeavor. Id be happy to have either view changed though if view is changed Id probably change my mind on view . Itll be easier to change my mind in other words about view than view Im not certain that its a worthwhile endeavor. Let me start off by saying that I understand the issues with victim blaming. Theres an unfortunate tendency that Ive noticed particularly on the Internet but occasionally in person as well to blame the victims of terrible situations. Were seeing it with responses to the police murders of black citizens people trying to find a reason why the person was shot and we see it with victims of rape people say you shouldnt have been so drunk or you shouldnt have been in that area of town. There are all sorts of possible explanations as to why victim blaming occurs one of the most convincing to me is that these occurrences cause a sort of cognitive dissonance in our minds where bad things happen to people who dont deserve it. We like to think of our world as just in some way so we come up with reasons why these people Deserved what they got. People rarely go so far as to say a woman deserved to be raped but theres a certain amount of otherization and lack of empathy that goes on a sense that well that wouldnt have happened to me because I wouldve been more careful. Additionally it blames the victim for something that you should be blaming the perpetrator for. And thats all bad. On the other hand it remains the case that the world is not a just place. Yes we can work towards justice we can work towards eliminating racism overt or structural and we can work towards a society in which women feel safer. And we absolutely should. In the meantime however it is important to understand lines of causation. Im not going with a very complicated definition of causation here basically a model in which two events or situations occur A and B and one event B would not have occurred the other A had not occurred. A caused B. Im aware there are logical or philosophical arguments against this model but thats not the view Im trying to have changed if you can make a compelling argument about the relevant views using those points go ahead. The case I often think of concerns myself and friends of mine. I live in a large city. It is safe for the most part but there are certain areas that you shouldnt walk in at night because you might get mugged. Both myself and a friend of mine have been mugged while walking through these areas. The causation is if we hadnt been walking through those areas we wouldnt have gotten mugged. So we dont walk through those areas at night anymore. Its still possible that well get mugged elsewhere but in my mind weve decreased our chances which is a good thing. We didnt deserve to get mugged before but changing our behavior prevented us from getting mugged again. Thus explaining causation is not justification. Its simply understanding the chain of events that led to another event. Finally my second view is that its a worthwhile endeavor. As I said we avoid those dangerous areas at night now and I feel weve decreased our chances of getting mugged. We understood the causation behind a negative situation and we changed our behavior accordingly. Ideally all areas would be safe to walk in but theyre not so we dont walk in the unsafe areas anymore. Yes this has mildly restricted our behavior but its worth it to us so that we dont get mugged. I understood these are hairy issues and maybe theres a fine line between causation and justification. . As far as part of my view goes I still stand by my original statement. Granted people have pointed out inconsistencies in the term causation but as I said Im not really trying to have a discussion about causation as a concept. I understand that its very complex and of course many factors go into a certain outcome. I am well aware of probabilistic models of eventsoutcomes my point was never to say that avoid certain areas means you wont get mugged or something like that. It concerned a marginal decrease of risk a change in probability. Furthermore the point itself was actually that explaining causation is not victim blaming and this view has not been addressed sufficiently. Ive changed my view to the point that I dont think explaining causation is always the appropriate response particularly in traumatic cases like sexual assault. I do still think its often important to explain causation before the fact as some users have suggested as an alternative simply to give people a good idea of what precautions they might want to take. ost specifically no one has really addressed this notion of causation vs. justification. One person has said theyre the same thing but not really offered an explanation for that. At any rate Ive enjoyed reading the responses so far Im aware this is a sensitive issue and Im glad discussions have remained pretty civil. ',\n  'counters': 'I would say that the difficulty here is in assigning causal factors accurately. Lets take your example Actually it would have also prevented your being mugged had you left minutes later. It further likely would have prevented your mugging had one of you been armed. If the muggers spouse had a fight with them before they left the house to mug you and this delayed them so you passed before they did it would have prevented your mugging. Your being mugged is a statistical outcome not attributable to any one behavior on your part. In this case the root cause is exactly and only the mugger choosing to mug you. Theres no other causal factor that would have actually prevented the situation only changed the probabilities and you cant really trust probabilities to guide specific behavior in specific situations. Absolute causation isnt a helpful concept in cases like this. The causal factors of one individual trial of a statistical experiment arent very important. The response to a statistical problem is not to change behavior on individual trials of the experiment its to address the root cause of the statistical problem. We cant nor should we do everything in our power to reduce all possibility of danger. Surely you can see the reductio ad absurdum here. We have to weigh the effectiveness of our strategies against the costs and benefits. If avoiding one part of town reduces your risk by lets convert everything to dollars here for ease of calculation . but it costs you . in inconvenience exercise of your rights enjoyment of life and every other factor most of which are very hard to calculate then you should not avoid that part of town even if it led to your being mugged. Its not necessarily wrong to point out these statistical factors in order to help people make returnoninvestment calculations if thats your real goal. Its not too helpful because people dont really have enough information nor training in statistical theory to apply that information. But its really very hard to come up with true valuations of these factors. Dont make the mistake of thinking that because its obvious to you that a part of town is dangerous that it is worthwhile to tell someone they should avoid that part of town. If you want to tell people in general that traveling in that part of town has a . chance of resulting in their being mugged and robbed of their pocket change lets say the average is with another in lost peace of mind by all means let them know that the expected cost of that behavior is . so that they can decide if its worth that cost to them. And thats about accurate for the most dangerous parts of any town and for actual losses typically incurred. If you exaggerate the danger youre not doing anyone any favors and are actually doing them harm statistically. When you talk to an actual victim about these things realize that they already probably have a vastly inflated opinion about the risks of their behavior because they have suffered an unlikely outcome in that regard. Almost in every case if youre speaking to a victim it would be more accurate to downplay the risks that they took if your goal is to actually statistically help them. If someone is in a plane crash and is injured your telling them that riding planes is dangerous is true as far as it goes... its just a lot less dangerous than driving which is what theyre likely to do instead. Societally speaking we have to be very careful what we warn people about because everyones mileage varies. '},\n {'id': 't3_2rnfn0',\n  'titles': 'Explaining causation is not blaming the victim and its a worthwhile endeavor.',\n  'arguments': 'Ive been thinking about this issue for a while. The sentence in the title is an oversimplification of the view but Ill elaborate more here. Technically its a twopart view Explaining causation is not blaming the victim. Explaining causation is a worthwhile endeavor. Id be happy to have either view changed though if view is changed Id probably change my mind on view . Itll be easier to change my mind in other words about view than view Im not certain that its a worthwhile endeavor. Let me start off by saying that I understand the issues with victim blaming. Theres an unfortunate tendency that Ive noticed particularly on the Internet but occasionally in person as well to blame the victims of terrible situations. Were seeing it with responses to the police murders of black citizens people trying to find a reason why the person was shot and we see it with victims of rape people say you shouldnt have been so drunk or you shouldnt have been in that area of town. There are all sorts of possible explanations as to why victim blaming occurs one of the most convincing to me is that these occurrences cause a sort of cognitive dissonance in our minds where bad things happen to people who dont deserve it. We like to think of our world as just in some way so we come up with reasons why these people Deserved what they got. People rarely go so far as to say a woman deserved to be raped but theres a certain amount of otherization and lack of empathy that goes on a sense that well that wouldnt have happened to me because I wouldve been more careful. Additionally it blames the victim for something that you should be blaming the perpetrator for. And thats all bad. On the other hand it remains the case that the world is not a just place. Yes we can work towards justice we can work towards eliminating racism overt or structural and we can work towards a society in which women feel safer. And we absolutely should. In the meantime however it is important to understand lines of causation. Im not going with a very complicated definition of causation here basically a model in which two events or situations occur A and B and one event B would not have occurred the other A had not occurred. A caused B. Im aware there are logical or philosophical arguments against this model but thats not the view Im trying to have changed if you can make a compelling argument about the relevant views using those points go ahead. The case I often think of concerns myself and friends of mine. I live in a large city. It is safe for the most part but there are certain areas that you shouldnt walk in at night because you might get mugged. Both myself and a friend of mine have been mugged while walking through these areas. The causation is if we hadnt been walking through those areas we wouldnt have gotten mugged. So we dont walk through those areas at night anymore. Its still possible that well get mugged elsewhere but in my mind weve decreased our chances which is a good thing. We didnt deserve to get mugged before but changing our behavior prevented us from getting mugged again. Thus explaining causation is not justification. Its simply understanding the chain of events that led to another event. Finally my second view is that its a worthwhile endeavor. As I said we avoid those dangerous areas at night now and I feel weve decreased our chances of getting mugged. We understood the causation behind a negative situation and we changed our behavior accordingly. Ideally all areas would be safe to walk in but theyre not so we dont walk in the unsafe areas anymore. Yes this has mildly restricted our behavior but its worth it to us so that we dont get mugged. I understood these are hairy issues and maybe theres a fine line between causation and justification. . As far as part of my view goes I still stand by my original statement. Granted people have pointed out inconsistencies in the term causation but as I said Im not really trying to have a discussion about causation as a concept. I understand that its very complex and of course many factors go into a certain outcome. I am well aware of probabilistic models of eventsoutcomes my point was never to say that avoid certain areas means you wont get mugged or something like that. It concerned a marginal decrease of risk a change in probability. Furthermore the point itself was actually that explaining causation is not victim blaming and this view has not been addressed sufficiently. Ive changed my view to the point that I dont think explaining causation is always the appropriate response particularly in traumatic cases like sexual assault. I do still think its often important to explain causation before the fact as some users have suggested as an alternative simply to give people a good idea of what precautions they might want to take. ost specifically no one has really addressed this notion of causation vs. justification. One person has said theyre the same thing but not really offered an explanation for that. At any rate Ive enjoyed reading the responses so far Im aware this is a sensitive issue and Im glad discussions have remained pretty civil. ',\n  'counters': 'I think youre correct for the most part but still believe I can change your view a bit due to adding an emotional component you may not be considering due to inexperience with some situations. I want to note I dont think this inexperience makes you a bad person or an idiot its just data you may not have to put into consideration. While speaking about causation can be beneficial in a vacuum there is an overall context that may make it harmful and when and how you discuss it can lead to it being potentially more damaging than helpful. When I entered my friends room after they called me about being assaulted I found them sobbing and repeating to themself Im so stupid. They had invited someone they didnt know very well into their room something just about everyone Ive known has done multiple times and in this case it turned out for the worst. If someone had come in and said to my friend well inviting someone into your room is a risky thing to do then I wouldnt be frustrated with that person because they were wrong I would be frustrated with them because they were being emotionally inconsiderate. Yes there were logical decisions on my friends part that put them at risk but my friend is already dealing with emotionally damaging selfblaming and selfloathing and this just throws fuel on the fire. When someone is unable to leave a room for weeks because of waking up in the middle of the night sobbing and having flashbacks you pointing out how they could have lessened their chance of this occurring is not on the top of the list of things that need to be addressed. Later when that person is speaking with a trusted therapist who can unwind causality from selfblame is a more appropriate context to discuss the the issue with that person. Id equate it to walking up to someone whose dog was hit by a car and saying dogchains will keep the dog away from the street and make it less likely to be hit by a car. Youre not logically wrong but youre not really helping. By pointing out the causality to the owner who is likely already blaming themself youre likely hurting them more than your information is worth. In addition youre not fully informed for all you know the owners last dog strangled itself on its chain and he just put in a fence that the new dog dug under. This is why there are commenters in this thread who are saying people are being unempathetic theyre not seeing the emotional context of the event and just focusing on the logical context considering the causality in a vacuum instead of as part of a whole incident. Again this is not because theyre stupid but because they likely have never had a full context on an issue like this before. This is not to say that conversations shouldnt be had about dangerous areas or that people shouldnt be warned about dangerous activities those things lead to betterinformed citizens and better policing as well as other endeavors such as improved lighting for areas that are highcrime. However there needs to be a question of when and with whom that conversation should be had in cases like sexual assualt I think the causation argument should be had with the therapist. People who see it on the news and say it especially without the full context are potentially doing more damage to the person than they are helping without realizing it.'},\n {'id': 't3_2rmy6e',\n  'titles': 'Philosophy has no tangible value as an academic field of study.',\n  'arguments': 'As an independent form of study philosophy doesnt seem to have any practical applications. What value does philosophy have in the modern age right now aside from contemplating things. Is it truly worth it to invest a significant amount of time and money studying this field? There do not seem to be any tangible applications or appreciable benefits from studying philosophy aside from personal growth and the expansion of ones intellectual perspective which I argue can be gained without studying philosophy in a rigorously academic manner. I often have read the argument that it is impossible to argue that philosophy is useless without using philosophy or something along those lines. I acknowledge this. Yes I am engaging in the use of philosophy right now at this very moment. However this does not provide an argument as to why it would be worthwhile to STUDY philosophy. What do you gain from studying philosophy that could not be gained from thoughtful introspection? ertainly important tools have originated from philosophical study such as the scientific method and science could be described as a subset of philosophy itself but that isnt an argument against the lack of tangible benefits to be gained from studying philosophy. You dont need to study philosophy to become a capable scientist. You shouldnt need to study philosophy to cultivate a reasonable set of moral principles or to be thoughtful about the circumstances and situations you encounter in your life. ',\n  'counters': 'Two answers. rigor and it saves us from reinventing the wheel. When you ask the question of whether philosophy is useful you give us an example of a practical application of philosophy. Were on the same page there. To expand on that we face a lot of practical questions about what things have value. When we create school curricula were making value judgments when we allot budgets. These are at least in one facet philosophical questions and important ones. But you suggest we can answer these questions without studying philosophy. an we answer high level economic questions without studying economics and math? an we figure out plumbing questions without training in plumbing? These value decisions and value is just one kind of philosophical question we deal with constantly can be based on valid or invalid arguments. If no one studies arguments of value why do you believe that we can naturally recognize these with no study? Why do you think we should start from scratch in all value decisions rather than seeking to understand the work that has been done in the past? A lot of philosophy seems to be common sense just because its been so thoroughly integrated into our culture. The place that were currently at though is the result of a lot of work in ethics epistemology and metaphysics. To assume we can arrive at the best answers just by thinking hard is ignoring the work that got us where we are both in failing to understand how much labor was required to get us here and failing to challenge some of our current baseline. Not everyone needs to study philosophy for their day to day lives but everyone consumes it whether they know it or not. If no one studies it then no one will be able to teach it. If no one is able to teach it then everyones philosophical positions will have no rigor will make no use of the work that has already been done before. All our philosophical questions then may as well be answered by rshowerthoughts or rtrees. Without rigor and background thats where introspection gets you.'},\n {'id': 't3_2rmy6e',\n  'titles': 'Philosophy has no tangible value as an academic field of study.',\n  'arguments': 'As an independent form of study philosophy doesnt seem to have any practical applications. What value does philosophy have in the modern age right now aside from contemplating things. Is it truly worth it to invest a significant amount of time and money studying this field? There do not seem to be any tangible applications or appreciable benefits from studying philosophy aside from personal growth and the expansion of ones intellectual perspective which I argue can be gained without studying philosophy in a rigorously academic manner. I often have read the argument that it is impossible to argue that philosophy is useless without using philosophy or something along those lines. I acknowledge this. Yes I am engaging in the use of philosophy right now at this very moment. However this does not provide an argument as to why it would be worthwhile to STUDY philosophy. What do you gain from studying philosophy that could not be gained from thoughtful introspection? ertainly important tools have originated from philosophical study such as the scientific method and science could be described as a subset of philosophy itself but that isnt an argument against the lack of tangible benefits to be gained from studying philosophy. You dont need to study philosophy to become a capable scientist. You shouldnt need to study philosophy to cultivate a reasonable set of moral principles or to be thoughtful about the circumstances and situations you encounter in your life. ',\n  'counters': 'Let me take a crack at this as someone with a philosophy degree inor asters and a job in which I find practical uses every single day for things I studied in Philosophy. One thing I found studying philosophy is that a lot of people even philosophers have a bit of a useless conception of what philosophy is or does. Theres always talk of Big Questions and Deep Problems or whatnot and I think that misses the point. Philosophy is a set of methods and concepts that you learn and practice and wield and those methods and concepts are extremely useful in all sorts of circumstances. What you really learn or rather the most practically valuable thing you learn is to become an expert in analytical thinking. That means things like identifying hidden assumptions in peoples reasoning noticing informal and formal logical fallacies and generating counterexamples identifying and isolating distinct concepts that people have mistakenly superimposed assessing things like the knowability or provability of a claim identifying and avoiding circular reasoning formulating alternative possible explanations when data underdetermines the given theory and on and on. The problem with thoughtful introspection is that youre vulnerable to your own bias. Its very difficult to poke holes in your own reasoning because you always think youre right. Studying philosophy is an opportunity to practice poking holes in arguments that can be very nuanced and very airtight you dont get this so much in stnd year courses and then have a trained philosopher read and poke holes in your reasoning too. You get to read arguments against other arguments and see how expert thinkers think. Obviously not you need to study science though you would be surprised how many leading scientists actively study philosophy. Science is a set of methods and concepts that helps you explore the relationships between things in the world. Philosophy on the other hand is a set of methods and concepts that helps you explore reasoning. You call on science when you need to answer questions about how the world works and you call on philosophers when you need to know about how to reason correctly in unfamiliar conceptual territory. ost people dont need philosophy to tell them what to do on a daytoday basis because most people dont encounter important and unfamiliar moral choices on a daytoday basis. But Hospitals hire philosophers Bioethicists to help them decide on policies and decisions that affect peoples lives in novel and controversial ways e.g. stem cells abortion the policies for people in vegetative states etc.. Likewise most peoples lives are sufficiently common and boring that thoughtful introspection will do them just fine but for example cutting edge businesses e.g. tech or service startups rely on previously untested reasoning and it can be very useful to have a capable trained set of eyes on your thought process before you pull the trigger. TLDR Philosophy is like the science of reasoning and it can be very useful when you have to reason in unfamiliar or novel ways such as new business ideas medical practices and even science'},\n {'id': 't3_2rmwcd',\n  'titles': 'Freedom of speech is being taken too far',\n  'arguments': 'In the last few weeks weve had two huge events happen in the world both of which were caused by matters relating to freedom of speech. The first being the hacking of Sony over The Interview and today the shooting at the offices of a satirical magazine in Paris. I certainly value our free speech but to me there is a clear line between exercising your first amendment right President Obama sucks! etc and doing things that are known to be offensive to other cultures Satirical cartoons of prophets assassinating leaders etc. Perhaps this is a bad analogy but if you say something antagonizing to a bully and you get your ass kicked you should have anticipated that outcome.',\n  'counters': 'Think of something you do every day that you consider perfectly reasonable something that harms nobody in any direct sense. Lets imagine this thing is to defined as walking down the street wearing headphones. Now imagine that I tell you that you doing this offends me deeply for reasons of personal belief that you dont share. I warn you that continuing to do this will mean that I will shoot you on sight. In a society that cant protect you from me it might be wise for you to take off your headphones to preserve your life. That does not make my demand legitimate does not make my shooting you an acceptable act and does not make my actions your fault. What you ought to hope is that society will protect you from someone like me and make it clear to me that my preferences will not be especially entertained because I threaten violence. I think people who satirize uhammad in ways that uslims consider blasphemous should stop doing that. I think its counterproductive antagonizing and in poor taste. But if someone disagrees with me on that point they dont deserve to be shot.'},\n {'id': 't3_2rkzen',\n  'titles': 'Eugenics isnt all that bad... And we dont even have to kill anyone for it',\n  'arguments': 'Okay Im talking about making the human race smarter forever. Intelligence is at least partially genetic and therefore passed down by parents yes? Yes. So what if instead of killing off the lessintelligent people Im against killing. Of most things. we just limit offspring? For example we could use the IQ scale for want of a better intelligence measure to determine the number of offspring a person should be able to genetically contribute to. Like round the IQ to the nearest multiple of then divide by and thats the number of offspring youre allowed to create. So someone with near average intelligence near IQ would have their IQ rounded to and then divided by to make offspring. The total offspring is presumably equal to the number of people who contributed to it. A man and a woman with average IQ can have two children not each. and sustain their population. onversely really above average IQs of can contribute genetically towards children... and so on. This would eventually make the human race smarter and therefore more likely to survive and advance the human race. I know this would be a bitch to implement and its near impossible to actually do but Im just looking at the concept. I know the IQ test has its faults and every policy can be abused... I know all that. Exceptions would be made when you accidentally have twins which causes you to go over your limit or etc. If a mother can make and has twins she cant make more but if she already has one and has twins after one which makes were not gonna kill one Perhaps if you have a major heritable health issue your IQ has subtracted from it before being rounded? Or maybe weighted differently like extremely high chance of cancer almost percent or something takes off more... Something like that. uch better than Kill off those with IQ less than I wouldnt mind a smarter human race... I suppose thats true now.... ',\n  'counters': 'Every time a proposal like this comes up I am reminded of why its such a bad idea not because we couldnt do it but because we dont yet have the wisdom to do it right. Youve just laid out a manifesto for making the human race more intelligent but nowhere in it have you questioned whether or not its a good idea. Why do we need to be more intelligent? Why would a more intelligent society automatically be a better one? If we improve our brains in this one regard might we end up diminishing them in other unanticipated ways? We dont yet know enough about the biology of it to even speculate. Simply put we are not ready for eugenics. '},\n {'id': 't3_2rkzen',\n  'titles': 'Eugenics isnt all that bad... And we dont even have to kill anyone for it',\n  'arguments': 'Okay Im talking about making the human race smarter forever. Intelligence is at least partially genetic and therefore passed down by parents yes? Yes. So what if instead of killing off the lessintelligent people Im against killing. Of most things. we just limit offspring? For example we could use the IQ scale for want of a better intelligence measure to determine the number of offspring a person should be able to genetically contribute to. Like round the IQ to the nearest multiple of then divide by and thats the number of offspring youre allowed to create. So someone with near average intelligence near IQ would have their IQ rounded to and then divided by to make offspring. The total offspring is presumably equal to the number of people who contributed to it. A man and a woman with average IQ can have two children not each. and sustain their population. onversely really above average IQs of can contribute genetically towards children... and so on. This would eventually make the human race smarter and therefore more likely to survive and advance the human race. I know this would be a bitch to implement and its near impossible to actually do but Im just looking at the concept. I know the IQ test has its faults and every policy can be abused... I know all that. Exceptions would be made when you accidentally have twins which causes you to go over your limit or etc. If a mother can make and has twins she cant make more but if she already has one and has twins after one which makes were not gonna kill one Perhaps if you have a major heritable health issue your IQ has subtracted from it before being rounded? Or maybe weighted differently like extremely high chance of cancer almost percent or something takes off more... Something like that. uch better than Kill off those with IQ less than I wouldnt mind a smarter human race... I suppose thats true now.... ',\n  'counters': 'Firstly IQ is not considered to be a good or accurate measure of overall intellect. Intelligence is hard to define and describe even by neurologists and reducing that complexity down to one number is incredibly challenging if not impossible. It may also be important to note that your system isnt only difficult to implement like you point out its also in direct conflict with how things actually work. ore intelligent people tend to have less children than do the more uneducated. There are multiple reasons for this more intelligent people tend to be more busy with careers etc. Lastly you must recognize that the IQ test is a standardized test. This means that even if we went really extreme and killed everyone with an IQ under .....that would change nothing. The average IQ will still be measured in the same way the lowest scores will be assigned the lower numbers and the average will be the same. '}]"
     },
     "execution_count": 2,
     "metadata": {},
     "output_type": "execute_result"
    }
   ],
   "source": [
    "sample = data[0:10]\n",
    "sample"
   ],
   "metadata": {
    "collapsed": false,
    "pycharm": {
     "name": "#%%\n"
    }
   }
  },
  {
   "cell_type": "code",
   "execution_count": 3,
   "outputs": [],
   "source": [
    "data = []\n",
    "\n",
    "with open(\"../data/claim_topics.jsonl\", \"r\") as f:\n",
    "    for line in f:\n",
    "        data.append(json.loads(line))"
   ],
   "metadata": {
    "collapsed": false,
    "pycharm": {
     "name": "#%%\n"
    }
   }
  },
  {
   "cell_type": "code",
   "execution_count": 4,
   "outputs": [
    {
     "data": {
      "text/plain": "[{'claim': '. I am insensitive to the Gaming Industrys portrayal of women minorities and how it deals with other socially sensitive topics.',\n  'topic': 'discrimination against women'},\n {'claim': '. I believe in same sex and traditional marriage but not other types of marriage',\n  'topic': 'mixed marriages'},\n {'claim': '. I believe the BS show Elementary Is worth more praise and acclaim than the BB version Sherlock',\n  'topic': 'popularity of the series'},\n {'claim': 'A Wired ouse is better than a Wireless mouse.',\n  'topic': 'wireless devices'},\n {'claim': 'A acbook is a better long term investment than a Windows computer.',\n  'topic': 'desktop or laptop computers'},\n {'claim': 'A banana is not a good method of portraying scale.',\n  'topic': 'scale'},\n {'claim': 'A comic book priced at . or . is disproportionately expensive to the amount of entertainment that can be garnered from it.',\n  'topic': 'comic books'},\n {'claim': 'A congressional reboot would breathe new life into the legislative branch of the federal U.S. government.',\n  'topic': 'congress'},\n {'claim': 'A direct online democracy where people vote on issues instead of candidates would be better than always having to vote for the less bad of candidates.',\n  'topic': 'improved voting technologies'},\n {'claim': 'A exican Border Fence Would Be an Ineffective Deterrent and a olossal Waste of Taxpayer oney and Resources',\n  'topic': 'fence'}]"
     },
     "execution_count": 4,
     "metadata": {},
     "output_type": "execute_result"
    }
   ],
   "source": [
    "sample = data[0:10]\n",
    "sample"
   ],
   "metadata": {
    "collapsed": false,
    "pycharm": {
     "name": "#%%\n"
    }
   }
  },
  {
   "cell_type": "code",
   "execution_count": 28,
   "outputs": [
    {
     "data": {
      "text/plain": "'desktop or laptop computers'"
     },
     "execution_count": 28,
     "metadata": {},
     "output_type": "execute_result"
    }
   ],
   "source": [
    "sample_ = sample[4]\n",
    "sample_[\"topic\"]"
   ],
   "metadata": {
    "collapsed": false,
    "pycharm": {
     "name": "#%%\n"
    }
   }
  },
  {
   "cell_type": "code",
   "execution_count": 11,
   "outputs": [],
   "source": [
    "import requests\n",
    "\n",
    "with open(\"../creds.json\", \"r\") as f:\n",
    "    config = json.load(f)"
   ],
   "metadata": {
    "collapsed": false,
    "pycharm": {
     "name": "#%%\n"
    }
   }
  },
  {
   "cell_type": "code",
   "execution_count": 19,
   "outputs": [
    {
     "data": {
      "text/plain": "<Response [502]>"
     },
     "execution_count": 19,
     "metadata": {},
     "output_type": "execute_result"
    }
   ],
   "source": [
    "params = {\n",
    "    \"topic\": str(sample_[\"topic\"]),\n",
    "    \"text\": str(sample_[\"claim\"]),\n",
    "    # \"predictedStance\": True,\n",
    "    # \"showOnlyArguments\": False,\n",
    "    \"userID\": config[\"argumentext_user\"],\n",
    "    \"apiKey\": config[\"argumentext_api_key\"],\n",
    "}\n",
    "\n",
    "url = \"https://api.argumentsearch.com/en/classify\"\n",
    "\n",
    "res = requests.get(url, params=params, json=data)\n",
    "res"
   ],
   "metadata": {
    "collapsed": false,
    "pycharm": {
     "name": "#%%\n"
    }
   }
  },
  {
   "cell_type": "code",
   "execution_count": 29,
   "outputs": [
    {
     "data": {
      "text/plain": "[{'argumentConfidence': 0.9952768017537892,\n  'argumentLabel': 'argument',\n  'sentenceOriginal': 'A acbook is a better long term investment than a Windows computer.',\n  'sentencePreprocessed': 'A acbook is a better long term investment than a Windows computer.',\n  'sortConfidence': 0.9962138602965112,\n  'stanceConfidence': 0.997150918839233,\n  'stanceLabel': 'pro'}]"
     },
     "execution_count": 29,
     "metadata": {},
     "output_type": "execute_result"
    }
   ],
   "source": [
    "\n",
    "\n",
    "def identify_stance(topic, claim):\n",
    "    payload = {\n",
    "        \"topic\": topic,\n",
    "        \"text\": claim,\n",
    "        \"predictStance\": True,\n",
    "        \"userID\": config[\"argumentext_user\"],\n",
    "        \"apiKey\": config[\"argumentext_api_key\"],\n",
    "    }\n",
    "\n",
    "    is_timed_out = True\n",
    "    timed_out_ctr = 1\n",
    "    while is_timed_out == True:\n",
    "        try:\n",
    "            json_dict = requests.post(\"https://api.argumentsearch.com/en/classify\", timeout=300, data=json.dumps(payload),\n",
    "                                      headers={'Content-Type': 'application/json'}).json()\n",
    "            is_timed_out = False\n",
    "        except requests.exceptions.Timeout or ConnectionError or json.decoder.JSONDecodeError:\n",
    "            print(\"Timed out for {0} times.\".format(str(timed_out_ctr)))\n",
    "        except Exception as e:\n",
    "            print(e)\n",
    "\n",
    "    return json_dict\n",
    "\n",
    "res = identify_stance(sample_[\"topic\"], sample_[\"claim\"])\n",
    "res[\"sentences\"]"
   ],
   "metadata": {
    "collapsed": false,
    "pycharm": {
     "name": "#%%\n"
    }
   }
  },
  {
   "cell_type": "code",
   "execution_count": null,
   "outputs": [],
   "source": [],
   "metadata": {
    "collapsed": false,
    "pycharm": {
     "name": "#%%\n"
    }
   }
  }
 ],
 "metadata": {
  "kernelspec": {
   "display_name": "Python 3",
   "language": "python",
   "name": "python3"
  },
  "language_info": {
   "codemirror_mode": {
    "name": "ipython",
    "version": 2
   },
   "file_extension": ".py",
   "mimetype": "text/x-python",
   "name": "python",
   "nbconvert_exporter": "python",
   "pygments_lexer": "ipython2",
   "version": "2.7.6"
  }
 },
 "nbformat": 4,
 "nbformat_minor": 0
}